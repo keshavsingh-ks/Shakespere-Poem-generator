{
  "nbformat": 4,
  "nbformat_minor": 0,
  "metadata": {
    "colab": {
      "provenance": []
    },
    "kernelspec": {
      "name": "python3",
      "display_name": "Python 3"
    },
    "language_info": {
      "name": "python"
    }
  },
  "cells": [
    {
      "cell_type": "code",
      "execution_count": 1,
      "metadata": {
        "id": "nriESvaCOLMy"
      },
      "outputs": [],
      "source": [
        "import numpy as np\n",
        "import pandas as pd\n",
        "import matplotlib.pyplot as plt\n",
        "import tensorflow as tf"
      ]
    },
    {
      "cell_type": "code",
      "source": [
        "FILE_PATH = '/content/sonnets.txt'\n",
        "NUM_BATCHES = 16\n",
        "LSTM_UNITS = 128\n",
        "EMBEDDING_DIM = 100"
      ],
      "metadata": {
        "id": "uuDLR4iyOUFF"
      },
      "execution_count": 2,
      "outputs": []
    },
    {
      "cell_type": "code",
      "source": [
        "with open(FILE_PATH, 'r') as f:\n",
        "  text = f.read()"
      ],
      "metadata": {
        "id": "RT1WVxF-Ogi5"
      },
      "execution_count": 3,
      "outputs": []
    },
    {
      "cell_type": "code",
      "source": [
        "text"
      ],
      "metadata": {
        "collapsed": true,
        "colab": {
          "base_uri": "https://localhost:8080/",
          "height": 1000
        },
        "id": "0plCTZ0TOkSw",
        "outputId": "5f62e264-77bf-4e75-92e0-8efee21632cc"
      },
      "execution_count": 4,
      "outputs": [
        {
          "output_type": "execute_result",
          "data": {
            "text/plain": [
              "\"FROM fairest creatures we desire increase,\\nThat thereby beauty's rose might never die,\\nBut as the riper should by time decease,\\nHis tender heir might bear his memory:\\nBut thou, contracted to thine own bright eyes,\\nFeed'st thy light'st flame with self-substantial fuel,\\nMaking a famine where abundance lies,\\nThyself thy foe, to thy sweet self too cruel.\\nThou that art now the world's fresh ornament\\nAnd only herald to the gaudy spring,\\nWithin thine own bud buriest thy content\\nAnd, tender churl, makest waste in niggarding.\\nPity the world, or else this glutton be,\\nTo eat the world's due, by the grave and thee.\\nWhen forty winters shall beseige thy brow,\\nAnd dig deep trenches in thy beauty's field,\\nThy youth's proud livery, so gazed on now,\\nWill be a tatter'd weed, of small worth held:\\nThen being ask'd where all thy beauty lies,\\nWhere all the treasure of thy lusty days,\\nTo say, within thine own deep-sunken eyes,\\nWere an all-eating shame and thriftless praise.\\nHow much more praise deserved thy beauty's use,\\nIf thou couldst answer 'This fair child of mine\\nShall sum my count and make my old excuse,'\\nProving his beauty by succession thine!\\nThis were to be new made when thou art old,\\nAnd see thy blood warm when thou feel'st it cold.\\nLook in thy glass, and tell the face thou viewest\\nNow is the time that face should form another;\\nWhose fresh repair if now thou not renewest,\\nThou dost beguile the world, unbless some mother.\\nFor where is she so fair whose unear'd womb\\nDisdains the tillage of thy husbandry?\\nOr who is he so fond will be the tomb\\nOf his self-love, to stop posterity?\\nThou art thy mother's glass, and she in thee\\nCalls back the lovely April of her prime:\\nSo thou through windows of thine age shall see\\nDespite of wrinkles this thy golden time.\\nBut if thou live, remember'd not to be,\\nDie single, and thine image dies with thee.\\nUnthrifty loveliness, why dost thou spend\\nUpon thyself thy beauty's legacy?\\nNature's bequest gives nothing but doth lend,\\nAnd being frank she lends to those are free.\\nThen, beauteous niggard, why dost thou abuse\\nThe bounteous largess given thee to give?\\nProfitless usurer, why dost thou use\\nSo great a sum of sums, yet canst not live?\\nFor having traffic with thyself alone,\\nThou of thyself thy sweet self dost deceive.\\nThen how, when nature calls thee to be gone,\\nWhat acceptable audit canst thou leave?\\nThy unused beauty must be tomb'd with thee,\\nWhich, used, lives th' executor to be.\\nThose hours, that with gentle work did frame\\nThe lovely gaze where every eye doth dwell,\\nWill play the tyrants to the very same\\nAnd that unfair which fairly doth excel:\\nFor never-resting time leads summer on\\nTo hideous winter and confounds him there;\\nSap check'd with frost and lusty leaves quite gone,\\nBeauty o'ersnow'd and bareness every where:\\nThen, were not summer's distillation left,\\nA liquid prisoner pent in walls of glass,\\nBeauty's effect with beauty were bereft,\\nNor it nor no remembrance what it was:\\nBut flowers distill'd though they with winter meet,\\nLeese but their show; their substance still lives sweet.\\nThen let not winter's ragged hand deface\\nIn thee thy summer, ere thou be distill'd:\\nMake sweet some vial; treasure thou some place\\nWith beauty's treasure, ere it be self-kill'd.\\nThat use is not forbidden usury,\\nWhich happies those that pay the willing loan;\\nThat's for thyself to breed another thee,\\nOr ten times happier, be it ten for one;\\nTen times thyself were happier than thou art,\\nIf ten of thine ten times refigured thee:\\nThen what could death do, if thou shouldst depart,\\nLeaving thee living in posterity?\\nBe not self-will'd, for thou art much too fair\\nTo be death's conquest and make worms thine heir.\\nLo! in the orient when the gracious light\\nLifts up his burning head, each under eye\\nDoth homage to his new-appearing sight,\\nServing with looks his sacred majesty;\\nAnd having climb'd the steep-up heavenly hill,\\nResembling strong youth in his middle age,\\nYet mortal looks adore his beauty still,\\nAttending on his golden pilgrimage;\\nBut when from highmost pitch, with weary car,\\nLike feeble age, he reeleth from the day,\\nThe eyes, 'fore duteous, now converted are\\nFrom his low tract and look another way:\\nSo thou, thyself out-going in thy noon,\\nUnlook'd on diest, unless thou get a son.\\nMusic to hear, why hear'st thou music sadly?\\nSweets with sweets war not, joy delights in joy.\\nWhy lovest thou that which thou receivest not gladly,\\nOr else receivest with pleasure thine annoy?\\nIf the true concord of well-tuned sounds,\\nBy unions married, do offend thine ear,\\nThey do but sweetly chide thee, who confounds\\nIn singleness the parts that thou shouldst bear.\\nMark how one string, sweet husband to another,\\nStrikes each in each by mutual ordering,\\nResembling sire and child and happy mother\\nWho all in one, one pleasing note do sing:\\nWhose speechless song, being many, seeming one,\\nSings this to thee: 'thou single wilt prove none.'\\nIs it for fear to wet a widow's eye\\nThat thou consumest thyself in single life?\\nAh! if thou issueless shalt hap to die.\\nThe world will wail thee, like a makeless wife;\\nThe world will be thy widow and still weep\\nThat thou no form of thee hast left behind,\\nWhen every private widow well may keep\\nBy children's eyes her husband's shape in mind.\\nLook, what an unthrift in the world doth spend\\nShifts but his place, for still the world enjoys it;\\nBut beauty's waste hath in the world an end,\\nAnd kept unused, the user so destroys it.\\nNo love toward others in that bosom sits\\nThat on himself such murderous shame commits.\\nFor shame! deny that thou bear'st love to any,\\nWho for thyself art so unprovident.\\nGrant, if thou wilt, thou art beloved of many,\\nBut that thou none lovest is most evident;\\nFor thou art so possess'd with murderous hate\\nThat 'gainst thyself thou stick'st not to conspire.\\nSeeking that beauteous roof to ruinate\\nWhich to repair should be thy chief desire.\\nO, change thy thought, that I may change my mind!\\nShall hate be fairer lodged than gentle love?\\nBe, as thy presence is, gracious and kind,\\nOr to thyself at least kind-hearted prove:\\nMake thee another self, for love of me,\\nThat beauty still may live in thine or thee.\\nAs fast as thou shalt wane, so fast thou growest\\nIn one of thine, from that which thou departest;\\nAnd that fresh blood which youngly thou bestowest\\nThou mayst call thine when thou from youth convertest.\\nHerein lives wisdom, beauty and increase:\\nWithout this, folly, age and cold decay:\\nIf all were minded so, the times should cease\\nAnd threescore year would make the world away.\\nLet those whom Nature hath not made for store,\\nHarsh featureless and rude, barrenly perish:\\nLook, whom she best endow'd she gave the more;\\nWhich bounteous gift thou shouldst in bounty cherish:\\nShe carved thee for her seal, and meant thereby\\nThou shouldst print more, not let that copy die.\\nWhen I do count the clock that tells the time,\\nAnd see the brave day sunk in hideous night;\\nWhen I behold the violet past prime,\\nAnd sable curls all silver'd o'er with white;\\nWhen lofty trees I see barren of leaves\\nWhich erst from heat did canopy the herd,\\nAnd summer's green all girded up in sheaves\\nBorne on the bier with white and bristly beard,\\nThen of thy beauty do I question make,\\nThat thou among the wastes of time must go,\\nSince sweets and beauties do themselves forsake\\nAnd die as fast as they see others grow;\\nAnd nothing 'gainst Time's scythe can make defence\\nSave breed, to brave him when he takes thee hence.\\nO, that you were yourself! but, love, you are\\nNo longer yours than you yourself here live:\\nAgainst this coming end you should prepare,\\nAnd your sweet semblance to some other give.\\nSo should that beauty which you hold in lease\\nFind no determination: then you were\\nYourself again after yourself's decease,\\nWhen your sweet issue your sweet form should bear.\\nWho lets so fair a house fall to decay,\\nWhich husbandry in honour might uphold\\nAgainst the stormy gusts of winter's day\\nAnd barren rage of death's eternal cold?\\nO, none but unthrifts! Dear my love, you know\\nYou had a father: let your son say so.\\nNot from the stars do I my judgment pluck;\\nAnd yet methinks I have astronomy,\\nBut not to tell of good or evil luck,\\nOf plagues, of dearths, or seasons' quality;\\nNor can I fortune to brief minutes tell,\\nPointing to each his thunder, rain and wind,\\nOr say with princes if it shall go well,\\nBy oft predict that I in heaven find:\\nBut from thine eyes my knowledge I derive,\\nAnd, constant stars, in them I read such art\\nAs truth and beauty shall together thrive,\\nIf from thyself to store thou wouldst convert;\\nOr else of thee this I prognosticate:\\nThy end is truth's and beauty's doom and date.\\nWhen I consider every thing that grows\\nHolds in perfection but a little moment,\\nThat this huge stage presenteth nought but shows\\nWhereon the stars in secret influence comment;\\nWhen I perceive that men as plants increase,\\nCheered and check'd even by the self-same sky,\\nVaunt in their youthful sap, at height decrease,\\nAnd wear their brave state out of memory;\\nThen the conceit of this inconstant stay\\nSets you most rich in youth before my sight,\\nWhere wasteful Time debateth with Decay,\\nTo change your day of youth to sullied night;\\nAnd all in war with Time for love of you,\\nAs he takes from you, I engraft you new.\\nBut wherefore do not you a mightier way\\nMake war upon this bloody tyrant, Time?\\nAnd fortify yourself in your decay\\nWith means more blessed than my barren rhyme?\\nNow stand you on the top of happy hours,\\nAnd many maiden gardens yet unset\\nWith virtuous wish would bear your living flowers,\\nMuch liker than your painted counterfeit:\\nSo should the lines of life that life repair,\\nWhich this, Time's pencil, or my pupil pen,\\nNeither in inward worth nor outward fair,\\nCan make you live yourself in eyes of men.\\nTo give away yourself keeps yourself still,\\nAnd you must live, drawn by your own sweet skill.\\nWho will believe my verse in time to come,\\nIf it were fill'd with your most high deserts?\\nThough yet, heaven knows, it is but as a tomb\\nWhich hides your life and shows not half your parts.\\nIf I could write the beauty of your eyes\\nAnd in fresh numbers number all your graces,\\nThe age to come would say 'This poet lies:\\nSuch heavenly touches ne'er touch'd earthly faces.'\\nSo should my papers yellow'd with their age\\nBe scorn'd like old men of less truth than tongue,\\nAnd your true rights be term'd a poet's rage\\nAnd stretched metre of an antique song:\\nBut were some child of yours alive that time,\\nYou should live twice; in it and in my rhyme.\\n\\nXVIII.\\n\\nShall I compare thee to a summer's day?\\nThou art more lovely and more temperate:\\nRough winds do shake the darling buds of May,\\nAnd summer's lease hath all too short a date:\\nSometime too hot the eye of heaven shines,\\nAnd often is his gold complexion dimm'd;\\nAnd every fair from fair sometime declines,\\nBy chance or nature's changing course untrimm'd;\\nBut thy eternal summer shall not fade\\nNor lose possession of that fair thou owest;\\nNor shall Death brag thou wander'st in his shade,\\nWhen in eternal lines to time thou growest:\\nSo long as men can breathe or eyes can see,\\nSo long lives this and this gives life to thee.\\nDevouring Time, blunt thou the lion's paws,\\nAnd make the earth devour her own sweet brood;\\nPluck the keen teeth from the fierce tiger's jaws,\\nAnd burn the long-lived phoenix in her blood;\\nMake glad and sorry seasons as thou fleets,\\nAnd do whate'er thou wilt, swift-footed Time,\\nTo the wide world and all her fading sweets;\\nBut I forbid thee one most heinous crime:\\nO, carve not with thy hours my love's fair brow,\\nNor draw no lines there with thine antique pen;\\nHim in thy course untainted do allow\\nFor beauty's pattern to succeeding men.\\nYet, do thy worst, old Time: despite thy wrong,\\nMy love shall in my verse ever live young.\\nA woman's face with Nature's own hand painted\\nHast thou, the master-mistress of my passion;\\nA woman's gentle heart, but not acquainted\\nWith shifting change, as is false women's fashion;\\nAn eye more bright than theirs, less false in rolling,\\nGilding the object whereupon it gazeth;\\nA man in hue, all 'hues' in his controlling,\\nMuch steals men's eyes and women's souls amazeth.\\nAnd for a woman wert thou first created;\\nTill Nature, as she wrought thee, fell a-doting,\\nAnd by addition me of thee defeated,\\nBy adding one thing to my purpose nothing.\\nBut since she prick'd thee out for women's pleasure,\\nMine be thy love and thy love's use their treasure.\\nSo is it not with me as with that Muse\\nStirr'd by a painted beauty to his verse,\\nWho heaven itself for ornament doth use\\nAnd every fair with his fair doth rehearse\\nMaking a couplement of proud compare,\\nWith sun and moon, with earth and sea's rich gems,\\nWith April's first-born flowers, and all things rare\\nThat heaven's air in this huge rondure hems.\\nO' let me, true in love, but truly write,\\nAnd then believe me, my love is as fair\\nAs any mother's child, though not so bright\\nAs those gold candles fix'd in heaven's air:\\nLet them say more than like of hearsay well;\\nI will not praise that purpose not to sell.\\nMy glass shall not persuade me I am old,\\nSo long as youth and thou are of one date;\\nBut when in thee time's furrows I behold,\\nThen look I death my days should expiate.\\nFor all that beauty that doth cover thee\\nIs but the seemly raiment of my heart,\\nWhich in thy breast doth live, as thine in me:\\nHow can I then be elder than thou art?\\nO, therefore, love, be of thyself so wary\\nAs I, not for myself, but for thee will;\\nBearing thy heart, which I will keep so chary\\nAs tender nurse her babe from faring ill.\\nPresume not on thy heart when mine is slain;\\nThou gavest me thine, not to give back again.\\nAs an unperfect actor on the stage\\nWho with his fear is put besides his part,\\nOr some fierce thing replete with too much rage,\\nWhose strength's abundance weakens his own heart.\\nSo I, for fear of trust, forget to say\\nThe perfect ceremony of love's rite,\\nAnd in mine own love's strength seem to decay,\\nO'ercharged with burden of mine own love's might.\\nO, let my books be then the eloquence\\nAnd dumb presagers of my speaking breast,\\nWho plead for love and look for recompense\\nMore than that tongue that more hath more express'd.\\nO, learn to read what silent love hath writ:\\nTo hear with eyes belongs to love's fine wit.\\nMine eye hath play'd the painter and hath stell'd\\nThy beauty's form in table of my heart;\\nMy body is the frame wherein 'tis held,\\nAnd perspective it is the painter's art.\\nFor through the painter must you see his skill,\\nTo find where your true image pictured lies;\\nWhich in my bosom's shop is hanging still,\\nThat hath his windows glazed with thine eyes.\\nNow see what good turns eyes for eyes have done:\\nMine eyes have drawn thy shape, and thine for me\\nAre windows to my breast, where-through the sun\\nDelights to peep, to gaze therein on thee;\\nYet eyes this cunning want to grace their art;\\nThey draw but what they see, know not the heart.\\nLet those who are in favour with their stars\\nOf public honour and proud titles boast,\\nWhilst I, whom fortune of such triumph bars,\\nUnlook'd for joy in that I honour most.\\nGreat princes' favourites their fair leaves spread\\nBut as the marigold at the sun's eye,\\nAnd in themselves their pride lies buried,\\nFor at a frown they in their glory die.\\nThe painful warrior famoused for fight,\\nAfter a thousand victories once foil'd,\\nIs from the book of honour razed quite,\\nAnd all the rest forgot for which he toil'd:\\nThen happy I, that love and am beloved\\nWhere I may not remove nor be removed.\\nord of my love, to whom in vassalage\\nThy merit hath my duty strongly knit,\\nTo thee I send this written embassage,\\nTo witness duty, not to show my wit:\\nDuty so great, which wit so poor as mine\\nMay make seem bare, in wanting words to show it,\\nBut that I hope some good conceit of thine\\nIn thy soul's thought, all naked, will bestow it;\\nTill whatsoever star that guides my moving\\nPoints on me graciously with fair aspect\\nAnd puts apparel on my tatter'd loving,\\nTo show me worthy of thy sweet respect:\\nThen may I dare to boast how I do love thee;\\nTill then not show my head where thou mayst prove me.\\nWeary with toil, I haste me to my bed,\\nThe dear repose for limbs with travel tired;\\nBut then begins a journey in my head,\\nTo work my mind, when body's work's expired:\\nFor then my thoughts, from far where I abide,\\nIntend a zealous pilgrimage to thee,\\nAnd keep my drooping eyelids open wide,\\nLooking on darkness which the blind do see\\nSave that my soul's imaginary sight\\nPresents thy shadow to my sightless view,\\nWhich, like a jewel hung in ghastly night,\\nMakes black night beauteous and her old face new.\\nLo! thus, by day my limbs, by night my mind,\\nFor thee and for myself no quiet find.\\now can I then return in happy plight,\\nThat am debarr'd the benefit of rest?\\nWhen day's oppression is not eased by night,\\nBut day by night, and night by day, oppress'd?\\nAnd each, though enemies to either's reign,\\nDo in consent shake hands to torture me;\\nThe one by toil, the other to complain\\nHow far I toil, still farther off from thee.\\nI tell the day, to please them thou art bright\\nAnd dost him grace when clouds do blot the heaven:\\nSo flatter I the swart-complexion'd night,\\nWhen sparkling stars twire not thou gild'st the even.\\nBut day doth daily draw my sorrows longer\\nAnd night doth nightly make grief's strengthseem stronger.\\nWhen, in disgrace with fortune and men's eyes,\\nI all alone beweep my outcast state\\nAnd trouble deaf heaven with my bootless cries\\nAnd look upon myself and curse my fate,\\nWishing me like to one more rich in hope,\\nFeatured like him, like him with friends possess'd,\\nDesiring this man's art and that man's scope,\\nWith what I most enjoy contented least;\\nYet in these thoughts myself almost despising,\\nHaply I think on thee, and then my state,\\nLike to the lark at break of day arising\\nFrom sullen earth, sings hymns at heaven's gate;\\nFor thy sweet love remember'd such wealth brings\\nThat then I scorn to change my state with kings.\\nWhen to the sessions of sweet silent thought\\nI summon up remembrance of things past,\\nI sigh the lack of many a thing I sought,\\nAnd with old woes new wail my dear time's waste:\\nThen can I drown an eye, unused to flow,\\nFor precious friends hid in death's dateless night,\\nAnd weep afresh love's long since cancell'd woe,\\nAnd moan the expense of many a vanish'd sight:\\nThen can I grieve at grievances foregone,\\nAnd heavily from woe to woe tell o'er\\nThe sad account of fore-bemoaned moan,\\nWhich I new pay as if not paid before.\\nBut if the while I think on thee, dear friend,\\nAll losses are restored and sorrows end.\\nThy bosom is endeared with all hearts,\\nWhich I by lacking have supposed dead,\\nAnd there reigns love and all love's loving parts,\\nAnd all those friends which I thought buried.\\nHow many a holy and obsequious tear\\nHath dear religious love stol'n from mine eye\\nAs interest of the dead, which now appear\\nBut things removed that hidden in thee lie!\\nThou art the grave where buried love doth live,\\nHung with the trophies of my lovers gone,\\nWho all their parts of me to thee did give;\\nThat due of many now is thine alone:\\nTheir images I loved I view in thee,\\nAnd thou, all they, hast all the all of me.\\nIf thou survive my well-contented day,\\nWhen that churl Death my bones with dust shall cover,\\nAnd shalt by fortune once more re-survey\\nThese poor rude lines of thy deceased lover,\\nCompare them with the bettering of the time,\\nAnd though they be outstripp'd by every pen,\\nReserve them for my love, not for their rhyme,\\nExceeded by the height of happier men.\\nO, then vouchsafe me but this loving thought:\\n'Had my friend's Muse grown with this growing age,\\nA dearer birth than this his love had brought,\\nTo march in ranks of better equipage:\\nBut since he died and poets better prove,\\nTheirs for their style I'll read, his for his love.'\\nFull many a glorious morning have I seen\\nFlatter the mountain-tops with sovereign eye,\\nKissing with golden face the meadows green,\\nGilding pale streams with heavenly alchemy;\\nAnon permit the basest clouds to ride\\nWith ugly rack on his celestial face,\\nAnd from the forlorn world his visage hide,\\nStealing unseen to west with this disgrace:\\nEven so my sun one early morn did shine\\nWith all triumphant splendor on my brow;\\nBut out, alack! he was but one hour mine;\\nThe region cloud hath mask'd him from me now.\\nYet him for this my love no whit disdaineth;\\nSuns of the world may stain when heaven's sun staineth.\\nWhy didst thou promise such a beauteous day,\\nAnd make me travel forth without my cloak,\\nTo let base clouds o'ertake me in my way,\\nHiding thy bravery in their rotten smoke?\\n'Tis not enough that through the cloud thou break,\\nTo dry the rain on my storm-beaten face,\\nFor no man well of such a salve can speak\\nThat heals the wound and cures not the disgrace:\\nNor can thy shame give physic to my grief;\\nThough thou repent, yet I have still the loss:\\nThe offender's sorrow lends but weak relief\\nTo him that bears the strong offence's cross.\\nAh! but those tears are pearl which thy love sheds,\\nAnd they are rich and ransom all ill deeds.\\nNo more be grieved at that which thou hast done:\\nRoses have thorns, and silver fountains mud;\\nClouds and eclipses stain both moon and sun,\\nAnd loathsome canker lives in sweetest bud.\\nAll men make faults, and even I in this,\\nAuthorizing thy trespass with compare,\\nMyself corrupting, salving thy amiss,\\nExcusing thy sins more than thy sins are;\\nFor to thy sensual fault I bring in sense--\\nThy adverse party is thy advocate--\\nAnd 'gainst myself a lawful plea commence:\\nSuch civil war is in my love and hate\\nThat I an accessary needs must be\\nTo that sweet thief which sourly robs from me.\\nLet me confess that we two must be twain,\\nAlthough our undivided loves are one:\\nSo shall those blots that do with me remain\\nWithout thy help by me be borne alone.\\nIn our two loves there is but one respect,\\nThough in our lives a separable spite,\\nWhich though it alter not love's sole effect,\\nYet doth it steal sweet hours from love's delight.\\nI may not evermore acknowledge thee,\\nLest my bewailed guilt should do thee shame,\\nNor thou with public kindness honour me,\\nUnless thou take that honour from thy name:\\nBut do not so; I love thee in such sort\\nAs, thou being mine, mine is thy good report.\\nAs a decrepit father takes delight\\nTo see his active child do deeds of youth,\\nSo I, made lame by fortune's dearest spite,\\nTake all my comfort of thy worth and truth.\\nFor whether beauty, birth, or wealth, or wit,\\nOr any of these all, or all, or more,\\nEntitled in thy parts do crowned sit,\\nI make my love engrafted to this store:\\nSo then I am not lame, poor, nor despised,\\nWhilst that this shadow doth such substance give\\nThat I in thy abundance am sufficed\\nAnd by a part of all thy glory live.\\nLook, what is best, that best I wish in thee:\\nThis wish I have; then ten times happy me!\\nHow can my Muse want subject to invent,\\nWhile thou dost breathe, that pour'st into my verse\\nThine own sweet argument, too excellent\\nFor every vulgar paper to rehearse?\\nO, give thyself the thanks, if aught in me\\nWorthy perusal stand against thy sight;\\nFor who's so dumb that cannot write to thee,\\nWhen thou thyself dost give invention light?\\nBe thou the tenth Muse, ten times more in worth\\nThan those old nine which rhymers invocate;\\nAnd he that calls on thee, let him bring forth\\nEternal numbers to outlive long date.\\nIf my slight Muse do please these curious days,\\nThe pain be mine, but thine shall be the praise.\\nO, how thy worth with manners may I sing,\\nWhen thou art all the better part of me?\\nWhat can mine own praise to mine own self bring?\\nAnd what is 't but mine own when I praise thee?\\nEven for this let us divided live,\\nAnd our dear love lose name of single one,\\nThat by this separation I may give\\nThat due to thee which thou deservest alone.\\nO absence, what a torment wouldst thou prove,\\nWere it not thy sour leisure gave sweet leave\\nTo entertain the time with thoughts of love,\\nWhich time and thoughts so sweetly doth deceive,\\nAnd that thou teachest how to make one twain,\\nBy praising him here who doth hence remain!\\nTake all my loves, my love, yea, take them all;\\nWhat hast thou then more than thou hadst before?\\nNo love, my love, that thou mayst true love call;\\nAll mine was thine before thou hadst this more.\\nThen if for my love thou my love receivest,\\nI cannot blame thee for my love thou usest;\\nBut yet be blamed, if thou thyself deceivest\\nBy wilful taste of what thyself refusest.\\nI do forgive thy robbery, gentle thief,\\nAlthough thou steal thee all my poverty;\\nAnd yet, love knows, it is a greater grief\\nTo bear love's wrong than hate's known injury.\\nLascivious grace, in whom all ill well shows,\\nKill me with spites; yet we must not be foes.\\nThose petty wrongs that liberty commits,\\nWhen I am sometime absent from thy heart,\\nThy beauty and thy years full well befits,\\nFor still temptation follows where thou art.\\nGentle thou art and therefore to be won,\\nBeauteous thou art, therefore to be assailed;\\nAnd when a woman woos, what woman's son\\nWill sourly leave her till she have prevailed?\\nAy me! but yet thou mightest my seat forbear,\\nAnd chide thy beauty and thy straying youth,\\nWho lead thee in their riot even there\\nWhere thou art forced to break a twofold truth,\\nHers by thy beauty tempting her to thee,\\nThine, by thy beauty being false to me.\\nThat thou hast her, it is not all my grief,\\nAnd yet it may be said I loved her dearly;\\nThat she hath thee, is of my wailing chief,\\nA loss in love that touches me more nearly.\\nLoving offenders, thus I will excuse ye:\\nThou dost love her, because thou knowst I love her;\\nAnd for my sake even so doth she abuse me,\\nSuffering my friend for my sake to approve her.\\nIf I lose thee, my loss is my love's gain,\\nAnd losing her, my friend hath found that loss;\\nBoth find each other, and I lose both twain,\\nAnd both for my sake lay on me this cross:\\nBut here's the joy; my friend and I are one;\\nSweet flattery! then she loves but me alone.\\nWhen most I wink, then do mine eyes best see,\\nFor all the day they view things unrespected;\\nBut when I sleep, in dreams they look on thee,\\nAnd darkly bright are bright in dark directed.\\nThen thou, whose shadow shadows doth make bright,\\nHow would thy shadow's form form happy show\\nTo the clear day with thy much clearer light,\\nWhen to unseeing eyes thy shade shines so!\\nHow would, I say, mine eyes be blessed made\\nBy looking on thee in the living day,\\nWhen in dead night thy fair imperfect shade\\nThrough heavy sleep on sightless eyes doth stay!\\nAll days are nights to see till I see thee,\\nAnd nights bright days when dreams do show thee me.\\nIf the dull substance of my flesh were thought,\\nInjurious distance should not stop my way;\\nFor then despite of space I would be brought,\\nFrom limits far remote where thou dost stay.\\nNo matter then although my foot did stand\\nUpon the farthest earth removed from thee;\\nFor nimble thought can jump both sea and land\\nAs soon as think the place where he would be.\\nBut ah! thought kills me that I am not thought,\\nTo leap large lengths of miles when thou art gone,\\nBut that so much of earth and water wrought\\nI must attend time's leisure with my moan,\\nReceiving nought by elements so slow\\nBut heavy tears, badges of either's woe.\\nThe other two, slight air and purging fire,\\nAre both with thee, wherever I abide;\\nThe first my thought, the other my desire,\\nThese present-absent with swift motion slide.\\nFor when these quicker elements are gone\\nIn tender embassy of love to thee,\\nMy life, being made of four, with two alone\\nSinks down to death, oppress'd with melancholy;\\nUntil life's composition be recured\\nBy those swift messengers return'd from thee,\\nWho even but now come back again, assured\\nOf thy fair health, recounting it to me:\\nThis told, I joy; but then no longer glad,\\nI send them back again and straight grow sad.\\nMine eye and heart are at a mortal war\\nHow to divide the conquest of thy sight;\\nMine eye my heart thy picture's sight would bar,\\nMy heart mine eye the freedom of that right.\\nMy heart doth plead that thou in him dost lie--\\nA closet never pierced with crystal eyes--\\nBut the defendant doth that plea deny\\nAnd says in him thy fair appearance lies.\\nTo 'cide this title is impanneled\\nA quest of thoughts, all tenants to the heart,\\nAnd by their verdict is determined\\nThe clear eye's moiety and the dear heart's part:\\nAs thus; mine eye's due is thy outward part,\\nAnd my heart's right thy inward love of heart.\\nBetwixt mine eye and heart a league is took,\\nAnd each doth good turns now unto the other:\\nWhen that mine eye is famish'd for a look,\\nOr heart in love with sighs himself doth smother,\\nWith my love's picture then my eye doth feast\\nAnd to the painted banquet bids my heart;\\nAnother time mine eye is my heart's guest\\nAnd in his thoughts of love doth share a part:\\nSo, either by thy picture or my love,\\nThyself away art resent still with me;\\nFor thou not farther than my thoughts canst move,\\nAnd I am still with them and they with thee;\\nOr, if they sleep, thy picture in my sight\\nAwakes my heart to heart's and eye's delight.\\nHow careful was I, when I took my way,\\nEach trifle under truest bars to thrust,\\nThat to my use it might unused stay\\nFrom hands of falsehood, in sure wards of trust!\\nBut thou, to whom my jewels trifles are,\\nMost worthy of comfort, now my greatest grief,\\nThou, best of dearest and mine only care,\\nArt left the prey of every vulgar thief.\\nThee have I not lock'd up in any chest,\\nSave where thou art not, though I feel thou art,\\nWithin the gentle closure of my breast,\\nFrom whence at pleasure thou mayst come and part;\\nAnd even thence thou wilt be stol'n, I fear,\\nFor truth proves thievish for a prize so dear.\\nAgainst that time, if ever that time come,\\nWhen I shall see thee frown on my defects,\\nWhen as thy love hath cast his utmost sum,\\nCall'd to that audit by advised respects;\\nAgainst that time when thou shalt strangely pass\\nAnd scarcely greet me with that sun thine eye,\\nWhen love, converted from the thing it was,\\nShall reasons find of settled gravity,--\\nAgainst that time do I ensconce me here\\nWithin the knowledge of mine own desert,\\nAnd this my hand against myself uprear,\\nTo guard the lawful reasons on thy part:\\nTo leave poor me thou hast the strength of laws,\\nSince why to love I can allege no cause.\\nHow heavy do I journey on the way,\\nWhen what I seek, my weary travel's end,\\nDoth teach that ease and that repose to say\\n'Thus far the miles are measured from thy friend!'\\nThe beast that bears me, tired with my woe,\\nPlods dully on, to bear that weight in me,\\nAs if by some instinct the wretch did know\\nHis rider loved not speed, being made from thee:\\nThe bloody spur cannot provoke him on\\nThat sometimes anger thrusts into his hide;\\nWhich heavily he answers with a groan,\\nMore sharp to me than spurring to his side;\\nFor that same groan doth put this in my mind;\\nMy grief lies onward and my joy behind.\\nThus can my love excuse the slow offence\\nOf my dull bearer when from thee I speed:\\nFrom where thou art why should I haste me thence?\\nTill I return, of posting is no need.\\nO, what excuse will my poor beast then find,\\nWhen swift extremity can seem but slow?\\nThen should I spur, though mounted on the wind;\\nIn winged speed no motion shall I know:\\nThen can no horse with my desire keep pace;\\nTherefore desire of perfect'st love being made,\\nShall neigh--no dull flesh--in his fiery race;\\nBut love, for love, thus shall excuse my jade;\\nSince from thee going he went wilful-slow,\\nTowards thee I'll run, and give him leave to go.\\nSo am I as the rich, whose blessed key\\nCan bring him to his sweet up-locked treasure,\\nThe which he will not every hour survey,\\nFor blunting the fine point of seldom pleasure.\\nTherefore are feasts so solemn and so rare,\\nSince, seldom coming, in the long year set,\\nLike stones of worth they thinly placed are,\\nOr captain jewels in the carcanet.\\nSo is the time that keeps you as my chest,\\nOr as the wardrobe which the robe doth hide,\\nTo make some special instant special blest,\\nBy new unfolding his imprison'd pride.\\nBlessed are you, whose worthiness gives scope,\\nBeing had, to triumph, being lack'd, to hope.\\nWhat is your substance, whereof are you made,\\nThat millions of strange shadows on you tend?\\nSince every one hath, every one, one shade,\\nAnd you, but one, can every shadow lend.\\nDescribe Adonis, and the counterfeit\\nIs poorly imitated after you;\\nOn Helen's cheek all art of beauty set,\\nAnd you in Grecian tires are painted new:\\nSpeak of the spring and foison of the year;\\nThe one doth shadow of your beauty show,\\nThe other as your bounty doth appear;\\nAnd you in every blessed shape we know.\\nIn all external grace you have some part,\\nBut you like none, none you, for constant heart.\\nO, how much more doth beauty beauteous seem\\nBy that sweet ornament which truth doth give!\\nThe rose looks fair, but fairer we it deem\\nFor that sweet odour which doth in it live.\\nThe canker-blooms have full as deep a dye\\nAs the perfumed tincture of the roses,\\nHang on such thorns and play as wantonly\\nWhen summer's breath their masked buds discloses:\\nBut, for their virtue only is their show,\\nThey live unwoo'd and unrespected fade,\\nDie to themselves. Sweet roses do not so;\\nOf their sweet deaths are sweetest odours made:\\nAnd so of you, beauteous and lovely youth,\\nWhen that shall fade, my verse distills your truth.\\nNot marble, nor the gilded monuments\\nOf princes, shall outlive this powerful rhyme;\\nBut you shall shine more bright in these contents\\nThan unswept stone besmear'd with sluttish time.\\nWhen wasteful war shall statues overturn,\\nAnd broils root out the work of masonry,\\nNor Mars his sword nor war's quick fire shall burn\\nThe living record of your memory.\\n'Gainst death and all-oblivious enmity\\nShall you pace forth; your praise shall still find room\\nEven in the eyes of all posterity\\nThat wear this world out to the ending doom.\\nSo, till the judgment that yourself arise,\\nYou live in this, and dwell in lover's eyes.\\nSweet love, renew thy force; be it not said\\nThy edge should blunter be than appetite,\\nWhich but to-day by feeding is allay'd,\\nTo-morrow sharpen'd in his former might:\\nSo, love, be thou; although to-day thou fill\\nThy hungry eyes even till they wink with fullness,\\nTo-morrow see again, and do not kill\\nThe spirit of love with a perpetual dullness.\\nLet this sad interim like the ocean be\\nWhich parts the shore, where two contracted new\\nCome daily to the banks, that, when they see\\nReturn of love, more blest may be the view;\\nElse call it winter, which being full of care\\nMakes summer's welcome thrice more wish'd, more rare.\\nBeing your slave, what should I do but tend\\nUpon the hours and times of your desire?\\nI have no precious time at all to spend,\\nNor services to do, till you require.\\nNor dare I chide the world-without-end hour\\nWhilst I, my sovereign, watch the clock for you,\\nNor think the bitterness of absence sour\\nWhen you have bid your servant once adieu;\\nNor dare I question with my jealous thought\\nWhere you may be, or your affairs suppose,\\nBut, like a sad slave, stay and think of nought\\nSave, where you are how happy you make those.\\nSo true a fool is love that in your will,\\nThough you do any thing, he thinks no ill.\\nThat god forbid that made me first your slave,\\nI should in thought control your times of pleasure,\\nOr at your hand the account of hours to crave,\\nBeing your vassal, bound to stay your leisure!\\nO, let me suffer, being at your beck,\\nThe imprison'd absence of your liberty;\\nAnd patience, tame to sufferance, bide each check,\\nWithout accusing you of injury.\\nBe where you list, your charter is so strong\\nThat you yourself may privilege your time\\nTo what you will; to you it doth belong\\nYourself to pardon of self-doing crime.\\nI am to wait, though waiting so be hell;\\nNot blame your pleasure, be it ill or well.\\nIf there be nothing new, but that which is\\nHath been before, how are our brains beguiled,\\nWhich, labouring for invention, bear amiss\\nThe second burden of a former child!\\nO, that record could with a backward look,\\nEven of five hundred courses of the sun,\\nShow me your image in some antique book,\\nSince mind at first in character was done!\\nThat I might see what the old world could say\\nTo this composed wonder of your frame;\\nWhether we are mended, or whether better they,\\nOr whether revolution be the same.\\nO, sure I am, the wits of former days\\nTo subjects worse have given admiring praise.\\nLike as the waves make towards the pebbled shore,\\nSo do our minutes hasten to their end;\\nEach changing place with that which goes before,\\nIn sequent toil all forwards do contend.\\nNativity, once in the main of light,\\nCrawls to maturity, wherewith being crown'd,\\nCrooked elipses 'gainst his glory fight,\\nAnd Time that gave doth now his gift confound.\\nTime doth transfix the flourish set on youth\\nAnd delves the parallels in beauty's brow,\\nFeeds on the rarities of nature's truth,\\nAnd nothing stands but for his scythe to mow:\\nAnd yet to times in hope my verse shall stand,\\nPraising thy worth, despite his cruel hand.\\nIs it thy will thy image should keep open\\nMy heavy eyelids to the weary night?\\nDost thou desire my slumbers should be broken,\\nWhile shadows like to thee do mock my sight?\\nIs it thy spirit that thou send'st from thee\\nSo far from home into my deeds to pry,\\nTo find out shames and idle hours in me,\\nThe scope and tenor of thy jealousy?\\nO, no! thy love, though much, is not so great:\\nIt is my love that keeps mine eye awake;\\nMine own true love that doth my rest defeat,\\nTo play the watchman ever for thy sake:\\nFor thee watch I whilst thou dost wake elsewhere,\\nFrom me far off, with others all too near.\\nSin of self-love possesseth all mine eye\\nAnd all my soul and all my every part;\\nAnd for this sin there is no remedy,\\nIt is so grounded inward in my heart.\\nMethinks no face so gracious is as mine,\\nNo shape so true, no truth of such account;\\nAnd for myself mine own worth do define,\\nAs I all other in all worths surmount.\\nBut when my glass shows me myself indeed,\\nBeated and chopp'd with tann'd antiquity,\\nMine own self-love quite contrary I read;\\nSelf so self-loving were iniquity.\\n'Tis thee, myself, that for myself I praise,\\nPainting my age with beauty of thy days.\\nAgainst my love shall be, as I am now,\\nWith Time's injurious hand crush'd and o'er-worn;\\nWhen hours have drain'd his blood and fill'd his brow\\nWith lines and wrinkles; when his youthful morn\\nHath travell'd on to age's steepy night,\\nAnd all those beauties whereof now he's king\\nAre vanishing or vanish'd out of sight,\\nStealing away the treasure of his spring;\\nFor such a time do I now fortify\\nAgainst confounding age's cruel knife,\\nThat he shall never cut from memory\\nMy sweet love's beauty, though my lover's life:\\nHis beauty shall in these black lines be seen,\\nAnd they shall live, and he in them still green.\\nWhen I have seen by Time's fell hand defaced\\nThe rich proud cost of outworn buried age;\\nWhen sometime lofty towers I see down-razed\\nAnd brass eternal slave to mortal rage;\\nWhen I have seen the hungry ocean gain\\nAdvantage on the kingdom of the shore,\\nAnd the firm soil win of the watery main,\\nIncreasing store with loss and loss with store;\\nWhen I have seen such interchange of state,\\nOr state itself confounded to decay;\\nRuin hath taught me thus to ruminate,\\nThat Time will come and take my love away.\\nThis thought is as a death, which cannot choose\\nBut weep to have that which it fears to lose.\\nSince brass, nor stone, nor earth, nor boundless sea,\\nBut sad mortality o'er-sways their power,\\nHow with this rage shall beauty hold a plea,\\nWhose action is no stronger than a flower?\\nO, how shall summer's honey breath hold out\\nAgainst the wreckful siege of battering days,\\nWhen rocks impregnable are not so stout,\\nNor gates of steel so strong, but Time decays?\\nO fearful meditation! where, alack,\\nShall Time's best jewel from Time's chest lie hid?\\nOr what strong hand can hold his swift foot back?\\nOr who his spoil of beauty can forbid?\\nO, none, unless this miracle have might,\\nThat in black ink my love may still shine bright.\\nTired with all these, for restful death I cry,\\nAs, to behold desert a beggar born,\\nAnd needy nothing trimm'd in jollity,\\nAnd purest faith unhappily forsworn,\\nAnd guilded honour shamefully misplaced,\\nAnd maiden virtue rudely strumpeted,\\nAnd right perfection wrongfully disgraced,\\nAnd strength by limping sway disabled,\\nAnd art made tongue-tied by authority,\\nAnd folly doctor-like controlling skill,\\nAnd simple truth miscall'd simplicity,\\nAnd captive good attending captain ill:\\nTired with all these, from these would I be gone,\\nSave that, to die, I leave my love alone.\\nAh! wherefore with infection should he live,\\nAnd with his presence grace impiety,\\nThat sin by him advantage should achieve\\nAnd lace itself with his society?\\nWhy should false painting imitate his cheek\\nAnd steal dead seeing of his living hue?\\nWhy should poor beauty indirectly seek\\nRoses of shadow, since his rose is true?\\nWhy should he live, now Nature bankrupt is,\\nBeggar'd of blood to blush through lively veins?\\nFor she hath no excheckr now but his,\\nAnd, proud of many, lives upon his gains.\\nO, him she stores, to show what wealth she had\\nIn days long since, before these last so bad.\\nThus is his cheek the map of days outworn,\\nWhen beauty lived and died as flowers do now,\\nBefore the bastard signs of fair were born,\\nOr durst inhabit on a living brow;\\nBefore the golden tresses of the dead,\\nThe right of sepulchres, were shorn away,\\nTo live a second life on second head;\\nEre beauty's dead fleece made another gay:\\nIn him those holy antique hours are seen,\\nWithout all ornament, itself and true,\\nMaking no summer of another's green,\\nRobbing no old to dress his beauty new;\\nAnd him as for a map doth Nature store,\\nTo show false Art what beauty was of yore.\\nThose parts of thee that the world's eye doth view\\nWant nothing that the thought of hearts can mend;\\nAll tongues, the voice of souls, give thee that due,\\nUttering bare truth, even so as foes commend.\\nThy outward thus with outward praise is crown'd;\\nBut those same tongues that give thee so thine own\\nIn other accents do this praise confound\\nBy seeing farther than the eye hath shown.\\nThey look into the beauty of thy mind,\\nAnd that, in guess, they measure by thy deeds;\\nThen, churls, their thoughts, although their eyes were kind,\\nTo thy fair flower add the rank smell of weeds:\\nBut why thy odour matcheth not thy show,\\nThe solve is this, that thou dost common grow.\\nThat thou art blamed shall not be thy defect,\\nFor slander's mark was ever yet the fair;\\nThe ornament of beauty is suspect,\\nA crow that flies in heaven's sweetest air.\\nSo thou be good, slander doth but approve\\nThy worth the greater, being woo'd of time;\\nFor canker vice the sweetest buds doth love,\\nAnd thou present'st a pure unstained prime.\\nThou hast pass'd by the ambush of young days,\\nEither not assail'd or victor being charged;\\nYet this thy praise cannot be so thy praise,\\nTo tie up envy evermore enlarged:\\nIf some suspect of ill mask'd not thy show,\\nThen thou alone kingdoms of hearts shouldst owe.\\nNo longer mourn for me when I am dead\\nThen you shall hear the surly sullen bell\\nGive warning to the world that I am fled\\nFrom this vile world, with vilest worms to dwell:\\nNay, if you read this line, remember not\\nThe hand that writ it; for I love you so\\nThat I in your sweet thoughts would be forgot\\nIf thinking on me then should make you woe.\\nO, if, I say, you look upon this verse\\nWhen I perhaps compounded am with clay,\\nDo not so much as my poor name rehearse.\\nBut let your love even with my life decay,\\nLest the wise world should look into your moan\\nAnd mock you with me after I am gone.\\nO, lest the world should task you to recite\\nWhat merit lived in me, that you should love\\nAfter my death, dear love, forget me quite,\\nFor you in me can nothing worthy prove;\\nUnless you would devise some virtuous lie,\\nTo do more for me than mine own desert,\\nAnd hang more praise upon deceased I\\nThan niggard truth would willingly impart:\\nO, lest your true love may seem false in this,\\nThat you for love speak well of me untrue,\\nMy name be buried where my body is,\\nAnd live no more to shame nor me nor you.\\nFor I am shamed by that which I bring forth,\\nAnd so should you, to love things nothing worth.\\nThat time of year thou mayst in me behold\\nWhen yellow leaves, or none, or few, do hang\\nUpon those boughs which shake against the cold,\\nBare ruin'd choirs, where late the sweet birds sang.\\nIn me thou seest the twilight of such day\\nAs after sunset fadeth in the west,\\nWhich by and by black night doth take away,\\nDeath's second self, that seals up all in rest.\\nIn me thou see'st the glowing of such fire\\nThat on the ashes of his youth doth lie,\\nAs the death-bed whereon it must expire\\nConsumed with that which it was nourish'd by.\\nThis thou perceivest, which makes thy love more strong,\\nTo love that well which thou must leave ere long.\\nBut be contented: when that fell arrest\\nWithout all bail shall carry me away,\\nMy life hath in this line some interest,\\nWhich for memorial still with thee shall stay.\\nWhen thou reviewest this, thou dost review\\nThe very part was consecrate to thee:\\nThe earth can have but earth, which is his due;\\nMy spirit is thine, the better part of me:\\nSo then thou hast but lost the dregs of life,\\nThe prey of worms, my body being dead,\\nThe coward conquest of a wretch's knife,\\nToo base of thee to be remembered.\\nThe worth of that is that which it contains,\\nAnd that is this, and this with thee remains.\\nSo are you to my thoughts as food to life,\\nOr as sweet-season'd showers are to the ground;\\nAnd for the peace of you I hold such strife\\nAs 'twixt a miser and his wealth is found;\\nNow proud as an enjoyer and anon\\nDoubting the filching age will steal his treasure,\\nNow counting best to be with you alone,\\nThen better'd that the world may see my pleasure;\\nSometime all full with feasting on your sight\\nAnd by and by clean starved for a look;\\nPossessing or pursuing no delight,\\nSave what is had or must from you be took.\\nThus do I pine and surfeit day by day,\\nOr gluttoning on all, or all away.\\nWhy is my verse so barren of new pride,\\nSo far from variation or quick change?\\nWhy with the time do I not glance aside\\nTo new-found methods and to compounds strange?\\nWhy write I still all one, ever the same,\\nAnd keep invention in a noted weed,\\nThat every word doth almost tell my name,\\nShowing their birth and where they did proceed?\\nO, know, sweet love, I always write of you,\\nAnd you and love are still my argument;\\nSo all my best is dressing old words new,\\nSpending again what is already spent:\\nFor as the sun is daily new and old,\\nSo is my love still telling what is told.\\nThy glass will show thee how thy beauties wear,\\nThy dial how thy precious minutes waste;\\nThe vacant leaves thy mind's imprint will bear,\\nAnd of this book this learning mayst thou taste.\\nThe wrinkles which thy glass will truly show\\nOf mouthed graves will give thee memory;\\nThou by thy dial's shady stealth mayst know\\nTime's thievish progress to eternity.\\nLook, what thy memory can not contain\\nCommit to these waste blanks, and thou shalt find\\nThose children nursed, deliver'd from thy brain,\\nTo take a new acquaintance of thy mind.\\nThese offices, so oft as thou wilt look,\\nShall profit thee and much enrich thy book.\\nSo oft have I invoked thee for my Muse\\nAnd found such fair assistance in my verse\\nAs every alien pen hath got my use\\nAnd under thee their poesy disperse.\\nThine eyes that taught the dumb on high to sing\\nAnd heavy ignorance aloft to fly\\nHave added feathers to the learned's wing\\nAnd given grace a double majesty.\\nYet be most proud of that which I compile,\\nWhose influence is thine and born of thee:\\nIn others' works thou dost but mend the style,\\nAnd arts with thy sweet graces graced be;\\nBut thou art all my art and dost advance\\nAs high as learning my rude ignorance.\\nWhilst I alone did call upon thy aid,\\nMy verse alone had all thy gentle grace,\\nBut now my gracious numbers are decay'd\\nAnd my sick Muse doth give another place.\\nI grant, sweet love, thy lovely argument\\nDeserves the travail of a worthier pen,\\nYet what of thee thy poet doth invent\\nHe robs thee of and pays it thee again.\\nHe lends thee virtue and he stole that word\\nFrom thy behavior; beauty doth he give\\nAnd found it in thy cheek; he can afford\\nNo praise to thee but what in thee doth live.\\nThen thank him not for that which he doth say,\\nSince what he owes thee thou thyself dost pay.\\nO, how I faint when I of you do write,\\nKnowing a better spirit doth use your name,\\nAnd in the praise thereof spends all his might,\\nTo make me tongue-tied, speaking of your fame!\\nBut since your worth, wide as the ocean is,\\nThe humble as the proudest sail doth bear,\\nMy saucy bark inferior far to his\\nOn your broad main doth wilfully appear.\\nYour shallowest help will hold me up afloat,\\nWhilst he upon your soundless deep doth ride;\\nOr being wreck'd, I am a worthless boat,\\nHe of tall building and of goodly pride:\\nThen if he thrive and I be cast away,\\nThe worst was this; my love was my decay.\\nOr I shall live your epitaph to make,\\nOr you survive when I in earth am rotten;\\nFrom hence your memory death cannot take,\\nAlthough in me each part will be forgotten.\\nYour name from hence immortal life shall have,\\nThough I, once gone, to all the world must die:\\nThe earth can yield me but a common grave,\\nWhen you entombed in men's eyes shall lie.\\nYour monument shall be my gentle verse,\\nWhich eyes not yet created shall o'er-read,\\nAnd tongues to be your being shall rehearse\\nWhen all the breathers of this world are dead;\\nYou still shall live--such virtue hath my pen--\\nWhere breath most breathes, even in the mouths of men.\\nI grant thou wert not married to my Muse\\nAnd therefore mayst without attaint o'erlook\\nThe dedicated words which writers use\\nOf their fair subject, blessing every book\\nThou art as fair in knowledge as in hue,\\nFinding thy worth a limit past my praise,\\nAnd therefore art enforced to seek anew\\nSome fresher stamp of the time-bettering days\\nAnd do so, love; yet when they have devised\\nWhat strained touches rhetoric can lend,\\nThou truly fair wert truly sympathized\\nIn true plain words by thy true-telling friend;\\nAnd their gross painting might be better used\\nWhere cheeks need blood; in thee it is abused.\\nI never saw that you did painting need\\nAnd therefore to your fair no painting set;\\nI found, or thought I found, you did exceed\\nThe barren tender of a poet's debt;\\nAnd therefore have I slept in your report,\\nThat you yourself being extant well might show\\nHow far a modern quill doth come too short,\\nSpeaking of worth, what worth in you doth grow.\\nThis silence for my sin you did impute,\\nWhich shall be most my glory, being dumb;\\nFor I impair not beauty being mute,\\nWhen others would give life and bring a tomb.\\nThere lives more life in one of your fair eyes\\nThan both your poets can in praise devise.\\nWho is it that says most? which can say more\\nThan this rich praise, that you alone are you?\\nIn whose confine immured is the store\\nWhich should example where your equal grew.\\nLean penury within that pen doth dwell\\nThat to his subject lends not some small glory;\\nBut he that writes of you, if he can tell\\nThat you are you, so dignifies his story,\\nLet him but copy what in you is writ,\\nNot making worse what nature made so clear,\\nAnd such a counterpart shall fame his wit,\\nMaking his style admired every where.\\nYou to your beauteous blessings add a curse,\\nBeing fond on praise, which makes your praises worse.\\nMy tongue-tied Muse in manners holds her still,\\nWhile comments of your praise, richly compiled,\\nReserve their character with golden quill\\nAnd precious phrase by all the Muses filed.\\nI think good thoughts whilst other write good words,\\nAnd like unletter'd clerk still cry 'Amen'\\nTo every hymn that able spirit affords\\nIn polish'd form of well-refined pen.\\nHearing you praised, I say ''Tis so, 'tis true,'\\nAnd to the most of praise add something more;\\nBut that is in my thought, whose love to you,\\nThough words come hindmost, holds his rank before.\\nThen others for the breath of words respect,\\nMe for my dumb thoughts, speaking in effect.\\nWas it the proud full sail of his great verse,\\nBound for the prize of all too precious you,\\nThat did my ripe thoughts in my brain inhearse,\\nMaking their tomb the womb wherein they grew?\\nWas it his spirit, by spirits taught to write\\nAbove a mortal pitch, that struck me dead?\\nNo, neither he, nor his compeers by night\\nGiving him aid, my verse astonished.\\nHe, nor that affable familiar ghost\\nWhich nightly gulls him with intelligence\\nAs victors of my silence cannot boast;\\nI was not sick of any fear from thence:\\nBut when your countenance fill'd up his line,\\nThen lack'd I matter; that enfeebled mine.\\nFarewell! thou art too dear for my possessing,\\nAnd like enough thou know'st thy estimate:\\nThe charter of thy worth gives thee releasing;\\nMy bonds in thee are all determinate.\\nFor how do I hold thee but by thy granting?\\nAnd for that riches where is my deserving?\\nThe cause of this fair gift in me is wanting,\\nAnd so my patent back again is swerving.\\nThyself thou gavest, thy own worth then not knowing,\\nOr me, to whom thou gavest it, else mistaking;\\nSo thy great gift, upon misprision growing,\\nComes home again, on better judgment making.\\nThus have I had thee, as a dream doth flatter,\\nIn sleep a king, but waking no such matter.\\nWhen thou shalt be disposed to set me light,\\nAnd place my merit in the eye of scorn,\\nUpon thy side against myself I'll fight,\\nAnd prove thee virtuous, though thou art forsworn.\\nWith mine own weakness being best acquainted,\\nUpon thy part I can set down a story\\nOf faults conceal'd, wherein I am attainted,\\nThat thou in losing me shalt win much glory:\\nAnd I by this will be a gainer too;\\nFor bending all my loving thoughts on thee,\\nThe injuries that to myself I do,\\nDoing thee vantage, double-vantage me.\\nSuch is my love, to thee I so belong,\\nThat for thy right myself will bear all wrong.\\nSay that thou didst forsake me for some fault,\\nAnd I will comment upon that offence;\\nSpeak of my lameness, and I straight will halt,\\nAgainst thy reasons making no defence.\\nThou canst not, love, disgrace me half so ill,\\nTo set a form upon desired change,\\nAs I'll myself disgrace: knowing thy will,\\nI will acquaintance strangle and look strange,\\nBe absent from thy walks, and in my tongue\\nThy sweet beloved name no more shall dwell,\\nLest I, too much profane, should do it wrong\\nAnd haply of our old acquaintance tell.\\nFor thee against myself I'll vow debate,\\nFor I must ne'er love him whom thou dost hate.\\nThen hate me when thou wilt; if ever, now;\\nNow, while the world is bent my deeds to cross,\\nJoin with the spite of fortune, make me bow,\\nAnd do not drop in for an after-loss:\\nAh, do not, when my heart hath 'scoped this sorrow,\\nCome in the rearward of a conquer'd woe;\\nGive not a windy night a rainy morrow,\\nTo linger out a purposed overthrow.\\nIf thou wilt leave me, do not leave me last,\\nWhen other petty griefs have done their spite\\nBut in the onset come; so shall I taste\\nAt first the very worst of fortune's might,\\nAnd other strains of woe, which now seem woe,\\nCompared with loss of thee will not seem so.\\nSome glory in their birth, some in their skill,\\nSome in their wealth, some in their bodies' force,\\nSome in their garments, though new-fangled ill,\\nSome in their hawks and hounds, some in their horse;\\nAnd every humour hath his adjunct pleasure,\\nWherein it finds a joy above the rest:\\nBut these particulars are not my measure;\\nAll these I better in one general best.\\nThy love is better than high birth to me,\\nRicher than wealth, prouder than garments' cost,\\nOf more delight than hawks or horses be;\\nAnd having thee, of all men's pride I boast:\\nWretched in this alone, that thou mayst take\\nAll this away and me most wretched make.\\nBut do thy worst to steal thyself away,\\nFor term of life thou art assured mine,\\nAnd life no longer than thy love will stay,\\nFor it depends upon that love of thine.\\nThen need I not to fear the worst of wrongs,\\nWhen in the least of them my life hath end.\\nI see a better state to me belongs\\nThan that which on thy humour doth depend;\\nThou canst not vex me with inconstant mind,\\nSince that my life on thy revolt doth lie.\\nO, what a happy title do I find,\\nHappy to have thy love, happy to die!\\nBut what's so blessed-fair that fears no blot?\\nThou mayst be false, and yet I know it not.\\nSo shall I live, supposing thou art true,\\nLike a deceived husband; so love's face\\nMay still seem love to me, though alter'd new;\\nThy looks with me, thy heart in other place:\\nFor there can live no hatred in thine eye,\\nTherefore in that I cannot know thy change.\\nIn many's looks the false heart's history\\nIs writ in moods and frowns and wrinkles strange,\\nBut heaven in thy creation did decree\\nThat in thy face sweet love should ever dwell;\\nWhate'er thy thoughts or thy heart's workings be,\\nThy looks should nothing thence but sweetness tell.\\nHow like Eve's apple doth thy beauty grow,\\nif thy sweet virtue answer not thy show!\\nThey that have power to hurt and will do none,\\nThat do not do the thing they most do show,\\nWho, moving others, are themselves as stone,\\nUnmoved, cold, and to temptation slow,\\nThey rightly do inherit heaven's graces\\nAnd husband nature's riches from expense;\\nThey are the lords and owners of their faces,\\nOthers but stewards of their excellence.\\nThe summer's flower is to the summer sweet,\\nThough to itself it only live and die,\\nBut if that flower with base infection meet,\\nThe basest weed outbraves his dignity:\\nFor sweetest things turn sourest by their deeds;\\nLilies that fester smell far worse than weeds.\\nHow sweet and lovely dost thou make the shame\\nWhich, like a canker in the fragrant rose,\\nDoth spot the beauty of thy budding name!\\nO, in what sweets dost thou thy sins enclose!\\nThat tongue that tells the story of thy days,\\nMaking lascivious comments on thy sport,\\nCannot dispraise but in a kind of praise;\\nNaming thy name blesses an ill report.\\nO, what a mansion have those vices got\\nWhich for their habitation chose out thee,\\nWhere beauty's veil doth cover every blot,\\nAnd all things turn to fair that eyes can see!\\nTake heed, dear heart, of this large privilege;\\nThe hardest knife ill-used doth lose his edge.\\nSome say thy fault is youth, some wantonness;\\nSome say thy grace is youth and gentle sport;\\nBoth grace and faults are loved of more and less;\\nThou makest faults graces that to thee resort.\\nAs on the finger of a throned queen\\nThe basest jewel will be well esteem'd,\\nSo are those errors that in thee are seen\\nTo truths translated and for true things deem'd.\\nHow many lambs might the stern wolf betray,\\nIf like a lamb he could his looks translate!\\nHow many gazers mightst thou lead away,\\nIf thou wouldst use the strength of all thy state!\\nBut do not so; I love thee in such sort\\nAs, thou being mine, mine is thy good report.\\nHow like a winter hath my absence been\\nFrom thee, the pleasure of the fleeting year!\\nWhat freezings have I felt, what dark days seen!\\nWhat old December's bareness every where!\\nAnd yet this time removed was summer's time,\\nThe teeming autumn, big with rich increase,\\nBearing the wanton burden of the prime,\\nLike widow'd wombs after their lords' decease:\\nYet this abundant issue seem'd to me\\nBut hope of orphans and unfather'd fruit;\\nFor summer and his pleasures wait on thee,\\nAnd, thou away, the very birds are mute;\\nOr, if they sing, 'tis with so dull a cheer\\nThat leaves look pale, dreading the winter's near.\\nFrom you have I been absent in the spring,\\nWhen proud-pied April dress'd in all his trim\\nHath put a spirit of youth in every thing,\\nThat heavy Saturn laugh'd and leap'd with him.\\nYet nor the lays of birds nor the sweet smell\\nOf different flowers in odour and in hue\\nCould make me any summer's story tell,\\nOr from their proud lap pluck them where they grew;\\nNor did I wonder at the lily's white,\\nNor praise the deep vermilion in the rose;\\nThey were but sweet, but figures of delight,\\nDrawn after you, you pattern of all those.\\nYet seem'd it winter still, and, you away,\\nAs with your shadow I with these did play:\\nThe forward violet thus did I chide:\\nSweet thief, whence didst thou steal thy sweet that smells,\\nIf not from my love's breath? The purple pride\\nWhich on thy soft cheek for complexion dwells\\nIn my love's veins thou hast too grossly dyed.\\nThe lily I condemned for thy hand,\\nAnd buds of marjoram had stol'n thy hair:\\nThe roses fearfully on thorns did stand,\\nOne blushing shame, another white despair;\\nA third, nor red nor white, had stol'n of both\\nAnd to his robbery had annex'd thy breath;\\nBut, for his theft, in pride of all his growth\\nA vengeful canker eat him up to death.\\nMore flowers I noted, yet I none could see\\nBut sweet or colour it had stol'n from thee.\\nWhere art thou, Muse, that thou forget'st so long\\nTo speak of that which gives thee all thy might?\\nSpend'st thou thy fury on some worthless song,\\nDarkening thy power to lend base subjects light?\\nReturn, forgetful Muse, and straight redeem\\nIn gentle numbers time so idly spent;\\nSing to the ear that doth thy lays esteem\\nAnd gives thy pen both skill and argument.\\nRise, resty Muse, my love's sweet face survey,\\nIf Time have any wrinkle graven there;\\nIf any, be a satire to decay,\\nAnd make Time's spoils despised every where.\\nGive my love fame faster than Time wastes life;\\nSo thou prevent'st his scythe and crooked knife.\\nO truant Muse, what shall be thy amends\\nFor thy neglect of truth in beauty dyed?\\nBoth truth and beauty on my love depends;\\nSo dost thou too, and therein dignified.\\nMake answer, Muse: wilt thou not haply say\\n'Truth needs no colour, with his colour fix'd;\\nBeauty no pencil, beauty's truth to lay;\\nBut best is best, if never intermix'd?'\\nBecause he needs no praise, wilt thou be dumb?\\nExcuse not silence so; for't lies in thee\\nTo make him much outlive a gilded tomb,\\nAnd to be praised of ages yet to be.\\nThen do thy office, Muse; I teach thee how\\nTo make him seem long hence as he shows now.\\nMy love is strengthen'd, though more weak in seeming;\\nI love not less, though less the show appear:\\nThat love is merchandized whose rich esteeming\\nThe owner's tongue doth publish every where.\\nOur love was new and then but in the spring\\nWhen I was wont to greet it with my lays,\\nAs Philomel in summer's front doth sing\\nAnd stops her pipe in growth of riper days:\\nNot that the summer is less pleasant now\\nThan when her mournful hymns did hush the night,\\nBut that wild music burthens every bough\\nAnd sweets grown common lose their dear delight.\\nTherefore like her I sometime hold my tongue,\\nBecause I would not dull you with my song.\\nAlack, what poverty my Muse brings forth,\\nThat having such a scope to show her pride,\\nThe argument all bare is of more worth\\nThan when it hath my added praise beside!\\nO, blame me not, if I no more can write!\\nLook in your glass, and there appears a face\\nThat over-goes my blunt invention quite,\\nDulling my lines and doing me disgrace.\\nWere it not sinful then, striving to mend,\\nTo mar the subject that before was well?\\nFor to no other pass my verses tend\\nThan of your graces and your gifts to tell;\\nAnd more, much more, than in my verse can sit\\nYour own glass shows you when you look in it.\\nTo me, fair friend, you never can be old,\\nFor as you were when first your eye I eyed,\\nSuch seems your beauty still. Three winters cold\\nHave from the forests shook three summers' pride,\\nThree beauteous springs to yellow autumn turn'd\\nIn process of the seasons have I seen,\\nThree April perfumes in three hot Junes burn'd,\\nSince first I saw you fresh, which yet are green.\\nAh! yet doth beauty, like a dial-hand,\\nSteal from his figure and no pace perceived;\\nSo your sweet hue, which methinks still doth stand,\\nHath motion and mine eye may be deceived:\\nFor fear of which, hear this, thou age unbred;\\nEre you were born was beauty's summer dead.\\nLet not my love be call'd idolatry,\\nNor my beloved as an idol show,\\nSince all alike my songs and praises be\\nTo one, of one, still such, and ever so.\\nKind is my love to-day, to-morrow kind,\\nStill constant in a wondrous excellence;\\nTherefore my verse to constancy confined,\\nOne thing expressing, leaves out difference.\\n'Fair, kind and true' is all my argument,\\n'Fair, kind, and true' varying to other words;\\nAnd in this change is my invention spent,\\nThree themes in one, which wondrous scope affords.\\n'Fair, kind, and true,' have often lived alone,\\nWhich three till now never kept seat in one.\\nWhen in the chronicle of wasted time\\nI see descriptions of the fairest wights,\\nAnd beauty making beautiful old rhyme\\nIn praise of ladies dead and lovely knights,\\nThen, in the blazon of sweet beauty's best,\\nOf hand, of foot, of lip, of eye, of brow,\\nI see their antique pen would have express'd\\nEven such a beauty as you master now.\\nSo all their praises are but prophecies\\nOf this our time, all you prefiguring;\\nAnd, for they look'd but with divining eyes,\\nThey had not skill enough your worth to sing:\\nFor we, which now behold these present days,\\nHad eyes to wonder, but lack tongues to praise.\\nNot mine own fears, nor the prophetic soul\\nOf the wide world dreaming on things to come,\\nCan yet the lease of my true love control,\\nSupposed as forfeit to a confined doom.\\nThe mortal moon hath her eclipse endured\\nAnd the sad augurs mock their own presage;\\nIncertainties now crown themselves assured\\nAnd peace proclaims olives of endless age.\\nNow with the drops of this most balmy time\\nMy love looks fresh, and death to me subscribes,\\nSince, spite of him, I'll live in this poor rhyme,\\nWhile he insults o'er dull and speechless tribes:\\nAnd thou in this shalt find thy monument,\\nWhen tyrants' crests and tombs of brass are spent.\\nWhat's in the brain that ink may character\\nWhich hath not figured to thee my true spirit?\\nWhat's new to speak, what new to register,\\nThat may express my love or thy dear merit?\\nNothing, sweet boy; but yet, like prayers divine,\\nI must, each day say o'er the very same,\\nCounting no old thing old, thou mine, I thine,\\nEven as when first I hallow'd thy fair name.\\nSo that eternal love in love's fresh case\\nWeighs not the dust and injury of age,\\nNor gives to necessary wrinkles place,\\nBut makes antiquity for aye his page,\\nFinding the first conceit of love there bred\\nWhere time and outward form would show it dead.\\nO, never say that I was false of heart,\\nThough absence seem'd my flame to qualify.\\nAs easy might I from myself depart\\nAs from my soul, which in thy breast doth lie:\\nThat is my home of love: if I have ranged,\\nLike him that travels I return again,\\nJust to the time, not with the time exchanged,\\nSo that myself bring water for my stain.\\nNever believe, though in my nature reign'd\\nAll frailties that besiege all kinds of blood,\\nThat it could so preposterously be stain'd,\\nTo leave for nothing all thy sum of good;\\nFor nothing this wide universe I call,\\nSave thou, my rose; in it thou art my all.\\nAlas, 'tis true I have gone here and there\\nAnd made myself a motley to the view,\\nGored mine own thoughts, sold cheap what is most dear,\\nMade old offences of affections new;\\nMost true it is that I have look'd on truth\\nAskance and strangely: but, by all above,\\nThese blenches gave my heart another youth,\\nAnd worse essays proved thee my best of love.\\nNow all is done, have what shall have no end:\\nMine appetite I never more will grind\\nOn newer proof, to try an older friend,\\nA god in love, to whom I am confined.\\nThen give me welcome, next my heaven the best,\\nEven to thy pure and most most loving breast.\\nO, for my sake do you with Fortune chide,\\nThe guilty goddess of my harmful deeds,\\nThat did not better for my life provide\\nThan public means which public manners breeds.\\nThence comes it that my name receives a brand,\\nAnd almost thence my nature is subdued\\nTo what it works in, like the dyer's hand:\\nPity me then and wish I were renew'd;\\nWhilst, like a willing patient, I will drink\\nPotions of eisel 'gainst my strong infection\\nNo bitterness that I will bitter think,\\nNor double penance, to correct correction.\\nPity me then, dear friend, and I assure ye\\nEven that your pity is enough to cure me.\\nYour love and pity doth the impression fill\\nWhich vulgar scandal stamp'd upon my brow;\\nFor what care I who calls me well or ill,\\nSo you o'er-green my bad, my good allow?\\nYou are my all the world, and I must strive\\nTo know my shames and praises from your tongue:\\nNone else to me, nor I to none alive,\\nThat my steel'd sense or changes right or wrong.\\nIn so profound abysm I throw all care\\nOf others' voices, that my adder's sense\\nTo critic and to flatterer stopped are.\\nMark how with my neglect I do dispense:\\nYou are so strongly in my purpose bred\\nThat all the world besides methinks are dead.\\nSince I left you, mine eye is in my mind;\\nAnd that which governs me to go about\\nDoth part his function and is partly blind,\\nSeems seeing, but effectually is out;\\nFor it no form delivers to the heart\\nOf bird of flower, or shape, which it doth latch:\\nOf his quick objects hath the mind no part,\\nNor his own vision holds what it doth catch:\\nFor if it see the rudest or gentlest sight,\\nThe most sweet favour or deformed'st creature,\\nThe mountain or the sea, the day or night,\\nThe crow or dove, it shapes them to your feature:\\nIncapable of more, replete with you,\\nMy most true mind thus makes mine eye untrue.\\nOr whether doth my mind, being crown'd with you,\\nDrink up the monarch's plague, this flattery?\\nOr whether shall I say, mine eye saith true,\\nAnd that your love taught it this alchemy,\\nTo make of monsters and things indigest\\nSuch cherubins as your sweet self resemble,\\nCreating every bad a perfect best,\\nAs fast as objects to his beams assemble?\\nO,'tis the first; 'tis flattery in my seeing,\\nAnd my great mind most kingly drinks it up:\\nMine eye well knows what with his gust is 'greeing,\\nAnd to his palate doth prepare the cup:\\nIf it be poison'd, 'tis the lesser sin\\nThat mine eye loves it and doth first begin.\\nThose lines that I before have writ do lie,\\nEven those that said I could not love you dearer:\\nYet then my judgment knew no reason why\\nMy most full flame should afterwards burn clearer.\\nBut reckoning time, whose million'd accidents\\nCreep in 'twixt vows and change decrees of kings,\\nTan sacred beauty, blunt the sharp'st intents,\\nDivert strong minds to the course of altering things;\\nAlas, why, fearing of time's tyranny,\\nMight I not then say 'Now I love you best,'\\nWhen I was certain o'er incertainty,\\nCrowning the present, doubting of the rest?\\nLove is a babe; then might I not say so,\\nTo give full growth to that which still doth grow?\\nLet me not to the marriage of true minds\\nAdmit impediments. Love is not love\\nWhich alters when it alteration finds,\\nOr bends with the remover to remove:\\nO no! it is an ever-fixed mark\\nThat looks on tempests and is never shaken;\\nIt is the star to every wandering bark,\\nWhose worth's unknown, although his height be taken.\\nLove's not Time's fool, though rosy lips and cheeks\\nWithin his bending sickle's compass come:\\nLove alters not with his brief hours and weeks,\\nBut bears it out even to the edge of doom.\\nIf this be error and upon me proved,\\nI never writ, nor no man ever loved.\\nAccuse me thus: that I have scanted all\\nWherein I should your great deserts repay,\\nForgot upon your dearest love to call,\\nWhereto all bonds do tie me day by day;\\nThat I have frequent been with unknown minds\\nAnd given to time your own dear-purchased right\\nThat I have hoisted sail to all the winds\\nWhich should transport me farthest from your sight.\\nBook both my wilfulness and errors down\\nAnd on just proof surmise accumulate;\\nBring me within the level of your frown,\\nBut shoot not at me in your waken'd hate;\\nSince my appeal says I did strive to prove\\nThe constancy and virtue of your love.\\nLike as, to make our appetites more keen,\\nWith eager compounds we our palate urge,\\nAs, to prevent our maladies unseen,\\nWe sicken to shun sickness when we purge,\\nEven so, being full of your ne'er-cloying sweetness,\\nTo bitter sauces did I frame my feeding\\nAnd, sick of welfare, found a kind of meetness\\nTo be diseased ere that there was true needing.\\nThus policy in love, to anticipate\\nThe ills that were not, grew to faults assured\\nAnd brought to medicine a healthful state\\nWhich, rank of goodness, would by ill be cured:\\nBut thence I learn, and find the lesson true,\\nDrugs poison him that so fell sick of you.\\nWhat potions have I drunk of Siren tears,\\nDistill'd from limbecks foul as hell within,\\nApplying fears to hopes and hopes to fears,\\nStill losing when I saw myself to win!\\nWhat wretched errors hath my heart committed,\\nWhilst it hath thought itself so blessed never!\\nHow have mine eyes out of their spheres been fitted\\nIn the distraction of this madding fever!\\nO benefit of ill! now I find true\\nThat better is by evil still made better;\\nAnd ruin'd love, when it is built anew,\\nGrows fairer than at first, more strong, far greater.\\nSo I return rebuked to my content\\nAnd gain by ill thrice more than I have spent.\\nThat you were once unkind befriends me now,\\nAnd for that sorrow which I then did feel\\nNeeds must I under my transgression bow,\\nUnless my nerves were brass or hammer'd steel.\\nFor if you were by my unkindness shaken\\nAs I by yours, you've pass'd a hell of time,\\nAnd I, a tyrant, have no leisure taken\\nTo weigh how once I suffered in your crime.\\nO, that our night of woe might have remember'd\\nMy deepest sense, how hard true sorrow hits,\\nAnd soon to you, as you to me, then tender'd\\nThe humble salve which wounded bosoms fits!\\nBut that your trespass now becomes a fee;\\nMine ransoms yours, and yours must ransom me.\\n'Tis better to be vile than vile esteem'd,\\nWhen not to be receives reproach of being,\\nAnd the just pleasure lost which is so deem'd\\nNot by our feeling but by others' seeing:\\nFor why should others false adulterate eyes\\nGive salutation to my sportive blood?\\nOr on my frailties why are frailer spies,\\nWhich in their wills count bad what I think good?\\nNo, I am that I am, and they that level\\nAt my abuses reckon up their own:\\nI may be straight, though they themselves be bevel;\\nBy their rank thoughts my deeds must not be shown;\\nUnless this general evil they maintain,\\nAll men are bad, and in their badness reign.\\nThy gift, thy tables, are within my brain\\nFull character'd with lasting memory,\\nWhich shall above that idle rank remain\\nBeyond all date, even to eternity;\\nOr at the least, so long as brain and heart\\nHave faculty by nature to subsist;\\nTill each to razed oblivion yield his part\\nOf thee, thy record never can be miss'd.\\nThat poor retention could not so much hold,\\nNor need I tallies thy dear love to score;\\nTherefore to give them from me was I bold,\\nTo trust those tables that receive thee more:\\nTo keep an adjunct to remember thee\\nWere to import forgetfulness in me.\\nNo, Time, thou shalt not boast that I do change:\\nThy pyramids built up with newer might\\nTo me are nothing novel, nothing strange;\\nThey are but dressings of a former sight.\\nOur dates are brief, and therefore we admire\\nWhat thou dost foist upon us that is old,\\nAnd rather make them born to our desire\\nThan think that we before have heard them told.\\nThy registers and thee I both defy,\\nNot wondering at the present nor the past,\\nFor thy records and what we see doth lie,\\nMade more or less by thy continual haste.\\nThis I do vow and this shall ever be;\\nI will be true, despite thy scythe and thee.\\nIf my dear love were but the child of state,\\nIt might for Fortune's bastard be unfather'd'\\nAs subject to Time's love or to Time's hate,\\nWeeds among weeds, or flowers with flowers gather'd.\\nNo, it was builded far from accident;\\nIt suffers not in smiling pomp, nor falls\\nUnder the blow of thralled discontent,\\nWhereto the inviting time our fashion calls:\\nIt fears not policy, that heretic,\\nWhich works on leases of short-number'd hours,\\nBut all alone stands hugely politic,\\nThat it nor grows with heat nor drowns with showers.\\nTo this I witness call the fools of time,\\nWhich die for goodness, who have lived for crime.\\nWere 't aught to me I bore the canopy,\\nWith my extern the outward honouring,\\nOr laid great bases for eternity,\\nWhich prove more short than waste or ruining?\\nHave I not seen dwellers on form and favour\\nLose all, and more, by paying too much rent,\\nFor compound sweet forgoing simple savour,\\nPitiful thrivers, in their gazing spent?\\nNo, let me be obsequious in thy heart,\\nAnd take thou my oblation, poor but free,\\nWhich is not mix'd with seconds, knows no art,\\nBut mutual render, only me for thee.\\nHence, thou suborn'd informer! a true soul\\nWhen most impeach'd stands least in thy control.\\nO thou, my lovely boy, who in thy power\\nDost hold Time's fickle glass, his sickle, hour;\\nWho hast by waning grown, and therein show'st\\nThy lovers withering as thy sweet self grow'st;\\nIf Nature, sovereign mistress over wrack,\\nAs thou goest onwards, still will pluck thee back,\\nShe keeps thee to this purpose, that her skill\\nMay time disgrace and wretched minutes kill.\\nYet fear her, O thou minion of her pleasure!\\nShe may detain, but not still keep, her treasure:\\nHer audit, though delay'd, answer'd must be,\\nAnd her quietus is to render thee.\\nIn the old age black was not counted fair,\\nOr if it were, it bore not beauty's name;\\nBut now is black beauty's successive heir,\\nAnd beauty slander'd with a bastard shame:\\nFor since each hand hath put on nature's power,\\nFairing the foul with art's false borrow'd face,\\nSweet beauty hath no name, no holy bower,\\nBut is profaned, if not lives in disgrace.\\nTherefore my mistress' brows are raven black,\\nHer eyes so suited, and they mourners seem\\nAt such who, not born fair, no beauty lack,\\nSlandering creation with a false esteem:\\nYet so they mourn, becoming of their woe,\\nThat every tongue says beauty should look so.\\nHow oft, when thou, my music, music play'st,\\nUpon that blessed wood whose motion sounds\\nWith thy sweet fingers, when thou gently sway'st\\nThe wiry concord that mine ear confounds,\\nDo I envy those jacks that nimble leap\\nTo kiss the tender inward of thy hand,\\nWhilst my poor lips, which should that harvest reap,\\nAt the wood's boldness by thee blushing stand!\\nTo be so tickled, they would change their state\\nAnd situation with those dancing chips,\\nO'er whom thy fingers walk with gentle gait,\\nMaking dead wood more blest than living lips.\\nSince saucy jacks so happy are in this,\\nGive them thy fingers, me thy lips to kiss.\\nThe expense of spirit in a waste of shame\\nIs lust in action; and till action, lust\\nIs perjured, murderous, bloody, full of blame,\\nSavage, extreme, rude, cruel, not to trust,\\nEnjoy'd no sooner but despised straight,\\nPast reason hunted, and no sooner had\\nPast reason hated, as a swallow'd bait\\nOn purpose laid to make the taker mad;\\nMad in pursuit and in possession so;\\nHad, having, and in quest to have, extreme;\\nA bliss in proof, and proved, a very woe;\\nBefore, a joy proposed; behind, a dream.\\nAll this the world well knows; yet none knows well\\nTo shun the heaven that leads men to this hell.\\nMy mistress' eyes are nothing like the sun;\\nCoral is far more red than her lips' red;\\nIf snow be white, why then her breasts are dun;\\nIf hairs be wires, black wires grow on her head.\\nI have seen roses damask'd, red and white,\\nBut no such roses see I in her cheeks;\\nAnd in some perfumes is there more delight\\nThan in the breath that from my mistress reeks.\\nI love to hear her speak, yet well I know\\nThat music hath a far more pleasing sound;\\nI grant I never saw a goddess go;\\nMy mistress, when she walks, treads on the ground:\\nAnd yet, by heaven, I think my love as rare\\nAs any she belied with false compare.\\nThou art as tyrannous, so as thou art,\\nAs those whose beauties proudly make them cruel;\\nFor well thou know'st to my dear doting heart\\nThou art the fairest and most precious jewel.\\nYet, in good faith, some say that thee behold\\nThy face hath not the power to make love groan:\\nTo say they err I dare not be so bold,\\nAlthough I swear it to myself alone.\\nAnd, to be sure that is not false I swear,\\nA thousand groans, but thinking on thy face,\\nOne on another's neck, do witness bear\\nThy black is fairest in my judgment's place.\\nIn nothing art thou black save in thy deeds,\\nAnd thence this slander, as I think, proceeds.\\nThine eyes I love, and they, as pitying me,\\nKnowing thy heart torments me with disdain,\\nHave put on black and loving mourners be,\\nLooking with pretty ruth upon my pain.\\nAnd truly not the morning sun of heaven\\nBetter becomes the grey cheeks of the east,\\nNor that full star that ushers in the even\\nDoth half that glory to the sober west,\\nAs those two mourning eyes become thy face:\\nO, let it then as well beseem thy heart\\nTo mourn for me, since mourning doth thee grace,\\nAnd suit thy pity like in every part.\\nThen will I swear beauty herself is black\\nAnd all they foul that thy complexion lack.\\nBeshrew that heart that makes my heart to groan\\nFor that deep wound it gives my friend and me!\\nIs't not enough to torture me alone,\\nBut slave to slavery my sweet'st friend must be?\\nMe from myself thy cruel eye hath taken,\\nAnd my next self thou harder hast engross'd:\\nOf him, myself, and thee, I am forsaken;\\nA torment thrice threefold thus to be cross'd.\\nPrison my heart in thy steel bosom's ward,\\nBut then my friend's heart let my poor heart bail;\\nWhoe'er keeps me, let my heart be his guard;\\nThou canst not then use rigor in my gaol:\\nAnd yet thou wilt; for I, being pent in thee,\\nPerforce am thine, and all that is in me.\\nSo, now I have confess'd that he is thine,\\nAnd I myself am mortgaged to thy will,\\nMyself I'll forfeit, so that other mine\\nThou wilt restore, to be my comfort still:\\nBut thou wilt not, nor he will not be free,\\nFor thou art covetous and he is kind;\\nHe learn'd but surety-like to write for me\\nUnder that bond that him as fast doth bind.\\nThe statute of thy beauty thou wilt take,\\nThou usurer, that put'st forth all to use,\\nAnd sue a friend came debtor for my sake;\\nSo him I lose through my unkind abuse.\\nHim have I lost; thou hast both him and me:\\nHe pays the whole, and yet am I not free.\\nWhoever hath her wish, thou hast thy 'Will,'\\nAnd 'Will' to boot, and 'Will' in overplus;\\nMore than enough am I that vex thee still,\\nTo thy sweet will making addition thus.\\nWilt thou, whose will is large and spacious,\\nNot once vouchsafe to hide my will in thine?\\nShall will in others seem right gracious,\\nAnd in my will no fair acceptance shine?\\nThe sea all water, yet receives rain still\\nAnd in abundance addeth to his store;\\nSo thou, being rich in 'Will,' add to thy 'Will'\\nOne will of mine, to make thy large 'Will' more.\\nLet no unkind, no fair beseechers kill;\\nThink all but one, and me in that one 'Will.'\\nIf thy soul check thee that I come so near,\\nSwear to thy blind soul that I was thy 'Will,'\\nAnd will, thy soul knows, is admitted there;\\nThus far for love my love-suit, sweet, fulfil.\\n'Will' will fulfil the treasure of thy love,\\nAy, fill it full with wills, and my will one.\\nIn things of great receipt with ease we prove\\nAmong a number one is reckon'd none:\\nThen in the number let me pass untold,\\nThough in thy stores' account I one must be;\\nFor nothing hold me, so it please thee hold\\nThat nothing me, a something sweet to thee:\\nMake but my name thy love, and love that still,\\nAnd then thou lovest me, for my name is 'Will.'\\nThou blind fool, Love, what dost thou to mine eyes,\\nThat they behold, and see not what they see?\\nThey know what beauty is, see where it lies,\\nYet what the best is take the worst to be.\\nIf eyes corrupt by over-partial looks\\nBe anchor'd in the bay where all men ride,\\nWhy of eyes' falsehood hast thou forged hooks,\\nWhereto the judgment of my heart is tied?\\nWhy should my heart think that a several plot\\nWhich my heart knows the wide world's common place?\\nOr mine eyes seeing this, say this is not,\\nTo put fair truth upon so foul a face?\\nIn things right true my heart and eyes have erred,\\nAnd to this false plague are they now transferr'd.\\nWhen my love swears that she is made of truth\\nI do believe her, though I know she lies,\\nThat she might think me some untutor'd youth,\\nUnlearned in the world's false subtleties.\\nThus vainly thinking that she thinks me young,\\nAlthough she knows my days are past the best,\\nSimply I credit her false speaking tongue:\\nOn both sides thus is simple truth suppress'd.\\nBut wherefore says she not she is unjust?\\nAnd wherefore say not I that I am old?\\nO, love's best habit is in seeming trust,\\nAnd age in love loves not to have years told:\\nTherefore I lie with her and she with me,\\nAnd in our faults by lies we flatter'd be.\\nO, call not me to justify the wrong\\nThat thy unkindness lays upon my heart;\\nWound me not with thine eye but with thy tongue;\\nUse power with power and slay me not by art.\\nTell me thou lovest elsewhere, but in my sight,\\nDear heart, forbear to glance thine eye aside:\\nWhat need'st thou wound with cunning when thy might\\nIs more than my o'er-press'd defense can bide?\\nLet me excuse thee: ah! my love well knows\\nHer pretty looks have been mine enemies,\\nAnd therefore from my face she turns my foes,\\nThat they elsewhere might dart their injuries:\\nYet do not so; but since I am near slain,\\nKill me outright with looks and rid my pain.\\nBe wise as thou art cruel; do not press\\nMy tongue-tied patience with too much disdain;\\nLest sorrow lend me words and words express\\nThe manner of my pity-wanting pain.\\nIf I might teach thee wit, better it were,\\nThough not to love, yet, love, to tell me so;\\nAs testy sick men, when their deaths be near,\\nNo news but health from their physicians know;\\nFor if I should despair, I should grow mad,\\nAnd in my madness might speak ill of thee:\\nNow this ill-wresting world is grown so bad,\\nMad slanderers by mad ears believed be,\\nThat I may not be so, nor thou belied,\\nBear thine eyes straight, though thy proud heart go wide.\\nIn faith, I do not love thee with mine eyes,\\nFor they in thee a thousand errors note;\\nBut 'tis my heart that loves what they despise,\\nWho in despite of view is pleased to dote;\\nNor are mine ears with thy tongue's tune delighted,\\nNor tender feeling, to base touches prone,\\nNor taste, nor smell, desire to be invited\\nTo any sensual feast with thee alone:\\nBut my five wits nor my five senses can\\nDissuade one foolish heart from serving thee,\\nWho leaves unsway'd the likeness of a man,\\nThy proud hearts slave and vassal wretch to be:\\nOnly my plague thus far I count my gain,\\nThat she that makes me sin awards me pain.\\nLove is my sin and thy dear virtue hate,\\nHate of my sin, grounded on sinful loving:\\nO, but with mine compare thou thine own state,\\nAnd thou shalt find it merits not reproving;\\nOr, if it do, not from those lips of thine,\\nThat have profaned their scarlet ornaments\\nAnd seal'd false bonds of love as oft as mine,\\nRobb'd others' beds' revenues of their rents.\\nBe it lawful I love thee, as thou lovest those\\nWhom thine eyes woo as mine importune thee:\\nRoot pity in thy heart, that when it grows\\nThy pity may deserve to pitied be.\\nIf thou dost seek to have what thou dost hide,\\nBy self-example mayst thou be denied!\\nLo! as a careful housewife runs to catch\\nOne of her feather'd creatures broke away,\\nSets down her babe and makes an swift dispatch\\nIn pursuit of the thing she would have stay,\\nWhilst her neglected child holds her in chase,\\nCries to catch her whose busy care is bent\\nTo follow that which flies before her face,\\nNot prizing her poor infant's discontent;\\nSo runn'st thou after that which flies from thee,\\nWhilst I thy babe chase thee afar behind;\\nBut if thou catch thy hope, turn back to me,\\nAnd play the mother's part, kiss me, be kind:\\nSo will I pray that thou mayst have thy 'Will,'\\nIf thou turn back, and my loud crying still.\\nTwo loves I have of comfort and despair,\\nWhich like two spirits do suggest me still:\\nThe better angel is a man right fair,\\nThe worser spirit a woman colour'd ill.\\nTo win me soon to hell, my female evil\\nTempteth my better angel from my side,\\nAnd would corrupt my saint to be a devil,\\nWooing his purity with her foul pride.\\nAnd whether that my angel be turn'd fiend\\nSuspect I may, but not directly tell;\\nBut being both from me, both to each friend,\\nI guess one angel in another's hell:\\nYet this shall I ne'er know, but live in doubt,\\nTill my bad angel fire my good one out.\\nThose lips that Love's own hand did make\\nBreathed forth the sound that said 'I hate'\\nTo me that languish'd for her sake;\\nBut when she saw my woeful state,\\nStraight in her heart did mercy come,\\nChiding that tongue that ever sweet\\nWas used in giving gentle doom,\\nAnd taught it thus anew to greet:\\n'I hate' she alter'd with an end,\\nThat follow'd it as gentle day\\nDoth follow night, who like a fiend\\nFrom heaven to hell is flown away;\\n'I hate' from hate away she threw,\\nAnd saved my life, saying 'not you.'\\nPoor soul, the centre of my sinful earth,\\nthese rebel powers that thee array;\\nWhy dost thou pine within and suffer dearth,\\nPainting thy outward walls so costly gay?\\nWhy so large cost, having so short a lease,\\nDost thou upon thy fading mansion spend?\\nShall worms, inheritors of this excess,\\nEat up thy charge? is this thy body's end?\\nThen soul, live thou upon thy servant's loss,\\nAnd let that pine to aggravate thy store;\\nBuy terms divine in selling hours of dross;\\nWithin be fed, without be rich no more:\\nSo shalt thou feed on Death, that feeds on men,\\nAnd Death once dead, there's no more dying then.\\nMy love is as a fever, longing still\\nFor that which longer nurseth the disease,\\nFeeding on that which doth preserve the ill,\\nThe uncertain sickly appetite to please.\\nMy reason, the physician to my love,\\nAngry that his prescriptions are not kept,\\nHath left me, and I desperate now approve\\nDesire is death, which physic did except.\\nPast cure I am, now reason is past care,\\nAnd frantic-mad with evermore unrest;\\nMy thoughts and my discourse as madmen's are,\\nAt random from the truth vainly express'd;\\nFor I have sworn thee fair and thought thee bright,\\nWho art as black as hell, as dark as night.\\nO me, what eyes hath Love put in my head,\\nWhich have no correspondence with true sight!\\nOr, if they have, where is my judgment fled,\\nThat censures falsely what they see aright?\\nIf that be fair whereon my false eyes dote,\\nWhat means the world to say it is not so?\\nIf it be not, then love doth well denote\\nLove's eye is not so true as all men's 'No.'\\nHow can it? O, how can Love's eye be true,\\nThat is so vex'd with watching and with tears?\\nNo marvel then, though I mistake my view;\\nThe sun itself sees not till heaven clears.\\nO cunning Love! with tears thou keep'st me blind,\\nLest eyes well-seeing thy foul faults should find.\\nCanst thou, O cruel! say I love thee not,\\nWhen I against myself with thee partake?\\nDo I not think on thee, when I forgot\\nAm of myself, all tyrant, for thy sake?\\nWho hateth thee that I do call my friend?\\nOn whom frown'st thou that I do fawn upon?\\nNay, if thou lour'st on me, do I not spend\\nRevenge upon myself with present moan?\\nWhat merit do I in myself respect,\\nThat is so proud thy service to despise,\\nWhen all my best doth worship thy defect,\\nCommanded by the motion of thine eyes?\\nBut, love, hate on, for now I know thy mind;\\nThose that can see thou lovest, and I am blind.\\nO, from what power hast thou this powerful might\\nWith insufficiency my heart to sway?\\nTo make me give the lie to my true sight,\\nAnd swear that brightness doth not grace the day?\\nWhence hast thou this becoming of things ill,\\nThat in the very refuse of thy deeds\\nThere is such strength and warrantize of skill\\nThat, in my mind, thy worst all best exceeds?\\nWho taught thee how to make me love thee more\\nThe more I hear and see just cause of hate?\\nO, though I love what others do abhor,\\nWith others thou shouldst not abhor my state:\\nIf thy unworthiness raised love in me,\\nMore worthy I to be beloved of thee.\\nLove is too young to know what conscience is;\\nYet who knows not conscience is born of love?\\nThen, gentle cheater, urge not my amiss,\\nLest guilty of my faults thy sweet self prove:\\nFor, thou betraying me, I do betray\\nMy nobler part to my gross body's treason;\\nMy soul doth tell my body that he may\\nTriumph in love; flesh stays no father reason;\\nBut, rising at thy name, doth point out thee\\nAs his triumphant prize. Proud of this pride,\\nHe is contented thy poor drudge to be,\\nTo stand in thy affairs, fall by thy side.\\nNo want of conscience hold it that I call\\nHer love for whose dear love I rise and fall.\\nIn loving thee thou know'st I am forsworn,\\nBut thou art twice forsworn, to me love swearing,\\nIn act thy bed-vow broke and new faith torn,\\nIn vowing new hate after new love bearing.\\nBut why of two oaths' breach do I accuse thee,\\nWhen I break twenty? I am perjured most;\\nFor all my vows are oaths but to misuse thee\\nAnd all my honest faith in thee is lost,\\nFor I have sworn deep oaths of thy deep kindness,\\nOaths of thy love, thy truth, thy constancy,\\nAnd, to enlighten thee, gave eyes to blindness,\\nOr made them swear against the thing they see;\\nFor I have sworn thee fair; more perjured eye,\\nTo swear against the truth so foul a lie!\\nCupid laid by his brand, and fell asleep:\\nA maid of Dian's this advantage found,\\nAnd his love-kindling fire did quickly steep\\nIn a cold valley-fountain of that ground;\\nWhich borrow'd from this holy fire of Love\\nA dateless lively heat, still to endure,\\nAnd grew a seething bath, which yet men prove\\nAgainst strange maladies a sovereign cure.\\nBut at my mistress' eye Love's brand new-fired,\\nThe boy for trial needs would touch my breast;\\nI, sick withal, the help of bath desired,\\nAnd thither hied, a sad distemper'd guest,\\nBut found no cure: the bath for my help lies\\nWhere Cupid got new fire--my mistress' eyes.\\nThe little Love-god lying once asleep\\nLaid by his side his heart-inflaming brand,\\nWhilst many nymphs that vow'd chaste life to keep\\nCame tripping by; but in her maiden hand\\nThe fairest votary took up that fire\\nWhich many legions of true hearts had warm'd;\\nAnd so the general of hot desire\\nWas sleeping by a virgin hand disarm'd.\\nThis brand she quenched in a cool well by,\\nWhich from Love's fire took heat perpetual,\\nGrowing a bath and healthful remedy\\nFor men diseased; but I, my mistress' thrall,\\nCame there for cure, and this by that I prove,\\nLove's fire heats water, water cools not love.\\n\""
            ],
            "application/vnd.google.colaboratory.intrinsic+json": {
              "type": "string"
            }
          },
          "metadata": {},
          "execution_count": 4
        }
      ]
    },
    {
      "cell_type": "code",
      "source": [
        "corpus = text.lower().split(\"\\n\")\n",
        "\n",
        "print(f\"There are {len(corpus)} lines of sonnets\\n\")\n",
        "print(f\"The first 5 lines look like this:\\n\")\n",
        "for i in range(5):\n",
        "  print(corpus[i])"
      ],
      "metadata": {
        "colab": {
          "base_uri": "https://localhost:8080/"
        },
        "id": "rITFLFEwOkxE",
        "outputId": "98a9c5b8-64b9-49b4-885e-5b3fb2d4d3ef"
      },
      "execution_count": 6,
      "outputs": [
        {
          "output_type": "stream",
          "name": "stdout",
          "text": [
            "There are 2159 lines of sonnets\n",
            "\n",
            "The first 5 lines look like this:\n",
            "\n",
            "from fairest creatures we desire increase,\n",
            "that thereby beauty's rose might never die,\n",
            "but as the riper should by time decease,\n",
            "his tender heir might bear his memory:\n",
            "but thou, contracted to thine own bright eyes,\n"
          ]
        }
      ]
    },
    {
      "cell_type": "code",
      "source": [
        "def fit_vectorizer(corpus):\n",
        "    \"\"\"\n",
        "    Instantiates the vectorizer class on the corpus\n",
        "\n",
        "    Args:\n",
        "        corpus (list): List with the sentences.\n",
        "\n",
        "    Returns:\n",
        "        (tf.keras.layers.TextVectorization): an instance of the TextVectorization class containing the word-index dictionary, adapted to the corpus sentences.\n",
        "    \"\"\"\n",
        "\n",
        "    tf.keras.utils.set_random_seed(65) # Do not change this line or you may have different expected outputs throughout the assignment\n",
        "\n",
        "    ### START CODE HERE ###\n",
        "\n",
        "    # Define the object\n",
        "    vectorizer = tf.keras.layers.TextVectorization(ragged=True, standardize=\"lower_and_strip_punctuation\")\n",
        "\n",
        "    # Adapt the vectorizer to the corpus\n",
        "    vectorizer.adapt(corpus)\n",
        "\n",
        "    # Adapt it to the corpus\n",
        "\n",
        "\n",
        "    ### END CODE HERE ###\n",
        "\n",
        "    return vectorizer"
      ],
      "metadata": {
        "id": "L3-HC-XGOxe4"
      },
      "execution_count": 7,
      "outputs": []
    },
    {
      "cell_type": "code",
      "source": [],
      "metadata": {
        "id": "vuMSH8ypQRwH"
      },
      "execution_count": null,
      "outputs": []
    },
    {
      "cell_type": "code",
      "source": [
        "vectorizer = fit_vectorizer(corpus)\n",
        "total_words = len(vectorizer.get_vocabulary())\n",
        "print(f\"There are {total_words} words in the vocabulary\")\n"
      ],
      "metadata": {
        "colab": {
          "base_uri": "https://localhost:8080/"
        },
        "id": "f76XxQ-hPK2S",
        "outputId": "84e05123-b977-4fee-dbbc-3194a167edbe"
      },
      "execution_count": 8,
      "outputs": [
        {
          "output_type": "stream",
          "name": "stdout",
          "text": [
            "There are 3189 words in the vocabulary\n"
          ]
        }
      ]
    },
    {
      "cell_type": "code",
      "source": [
        "def n_gram_seqs(corpus, vectorizer):\n",
        "    \"\"\"\n",
        "    Generates a list of n-gram sequences\n",
        "\n",
        "    Args:\n",
        "        corpus (list of string): lines of texts to generate n-grams for\n",
        "        vectorizer (tf.keras.layers.TextVectorization): an instance of the TextVectorization class adapted in the corpus\n",
        "\n",
        "    Returns:\n",
        "        (list of tf.int64 tensors): the n-gram sequences for each line in the corpus\n",
        "    \"\"\"\n",
        "    input_sequences = []\n",
        "\n",
        "    ### START CODE HERE ###\n",
        "    for line in corpus:\n",
        "        tokens = vectorizer(line)\n",
        "        for i in range(1, len(tokens)):\n",
        "            n_gram_sequence = tokens[:i+1]\n",
        "            input_sequences.append(n_gram_sequence)\n",
        "    ### END CODE HERE ###\n",
        "\n",
        "    return input_sequences"
      ],
      "metadata": {
        "id": "cxvEGeLaPpD_"
      },
      "execution_count": 9,
      "outputs": []
    },
    {
      "cell_type": "code",
      "source": [
        "# Test your function with one example\n",
        "first_example_sequence = n_gram_seqs([corpus[0]], vectorizer)\n",
        "\n",
        "print(\"n_gram sequences for first example look like this:\\n\")\n",
        "first_example_sequence"
      ],
      "metadata": {
        "colab": {
          "base_uri": "https://localhost:8080/"
        },
        "id": "-82aWoynQSLx",
        "outputId": "5b1e1a33-d236-473f-e2b5-3ab556bd7253"
      },
      "execution_count": 10,
      "outputs": [
        {
          "output_type": "stream",
          "name": "stdout",
          "text": [
            "n_gram sequences for first example look like this:\n",
            "\n"
          ]
        },
        {
          "output_type": "execute_result",
          "data": {
            "text/plain": [
              "[<tf.Tensor: shape=(2,), dtype=int64, numpy=array([ 35, 489])>,\n",
              " <tf.Tensor: shape=(3,), dtype=int64, numpy=array([  35,  489, 1259])>,\n",
              " <tf.Tensor: shape=(4,), dtype=int64, numpy=array([  35,  489, 1259,  164])>,\n",
              " <tf.Tensor: shape=(5,), dtype=int64, numpy=array([  35,  489, 1259,  164,  230])>,\n",
              " <tf.Tensor: shape=(6,), dtype=int64, numpy=array([  35,  489, 1259,  164,  230,  582])>]"
            ]
          },
          "metadata": {},
          "execution_count": 10
        }
      ]
    },
    {
      "cell_type": "code",
      "source": [
        "\n",
        "next_3_examples_sequence = n_gram_seqs(corpus[1:4], vectorizer)\n",
        "\n",
        "print(\"n_gram sequences for next 3 examples look like this:\\n\")\n",
        "next_3_examples_sequence"
      ],
      "metadata": {
        "colab": {
          "base_uri": "https://localhost:8080/"
        },
        "id": "dK5aedTLQx16",
        "outputId": "c62368a6-8550-45ae-9b05-584dac301c65"
      },
      "execution_count": 11,
      "outputs": [
        {
          "output_type": "stream",
          "name": "stdout",
          "text": [
            "n_gram sequences for next 3 examples look like this:\n",
            "\n"
          ]
        },
        {
          "output_type": "execute_result",
          "data": {
            "text/plain": [
              "[<tf.Tensor: shape=(2,), dtype=int64, numpy=array([  9, 935])>,\n",
              " <tf.Tensor: shape=(3,), dtype=int64, numpy=array([  9, 935, 143])>,\n",
              " <tf.Tensor: shape=(4,), dtype=int64, numpy=array([  9, 935, 143, 369])>,\n",
              " <tf.Tensor: shape=(5,), dtype=int64, numpy=array([  9, 935, 143, 369, 101])>,\n",
              " <tf.Tensor: shape=(6,), dtype=int64, numpy=array([  9, 935, 143, 369, 101, 171])>,\n",
              " <tf.Tensor: shape=(7,), dtype=int64, numpy=array([  9, 935, 143, 369, 101, 171, 207])>,\n",
              " <tf.Tensor: shape=(2,), dtype=int64, numpy=array([17, 23])>,\n",
              " <tf.Tensor: shape=(3,), dtype=int64, numpy=array([17, 23,  3])>,\n",
              " <tf.Tensor: shape=(4,), dtype=int64, numpy=array([  17,   23,    3, 1006])>,\n",
              " <tf.Tensor: shape=(5,), dtype=int64, numpy=array([  17,   23,    3, 1006,   64])>,\n",
              " <tf.Tensor: shape=(6,), dtype=int64, numpy=array([  17,   23,    3, 1006,   64,   31])>,\n",
              " <tf.Tensor: shape=(7,), dtype=int64, numpy=array([  17,   23,    3, 1006,   64,   31,   51])>,\n",
              " <tf.Tensor: shape=(8,), dtype=int64, numpy=array([  17,   23,    3, 1006,   64,   31,   51,  803])>,\n",
              " <tf.Tensor: shape=(2,), dtype=int64, numpy=array([ 27, 315])>,\n",
              " <tf.Tensor: shape=(3,), dtype=int64, numpy=array([ 27, 315, 745])>,\n",
              " <tf.Tensor: shape=(4,), dtype=int64, numpy=array([ 27, 315, 745, 101])>,\n",
              " <tf.Tensor: shape=(5,), dtype=int64, numpy=array([ 27, 315, 745, 101, 209])>,\n",
              " <tf.Tensor: shape=(6,), dtype=int64, numpy=array([ 27, 315, 745, 101, 209,  27])>,\n",
              " <tf.Tensor: shape=(7,), dtype=int64, numpy=array([ 27, 315, 745, 101, 209,  27, 286])>]"
            ]
          },
          "metadata": {},
          "execution_count": 11
        }
      ]
    },
    {
      "cell_type": "code",
      "source": [
        "# Apply the n_gram_seqs transformation to the whole corpus\n",
        "input_sequences = n_gram_seqs(corpus, vectorizer)\n",
        "\n",
        "# Save max length\n",
        "max_sequence_len = max([len(x) for x in input_sequences])\n",
        "\n",
        "print(f\"n_grams of input_sequences have length: {len(input_sequences)}\")\n",
        "print(f\"maximum length of sequences is: {max_sequence_len}\")"
      ],
      "metadata": {
        "colab": {
          "base_uri": "https://localhost:8080/"
        },
        "id": "1TwrpId8Q18C",
        "outputId": "6b057672-5839-48e1-f0dd-860656d2311a"
      },
      "execution_count": 12,
      "outputs": [
        {
          "output_type": "stream",
          "name": "stdout",
          "text": [
            "n_grams of input_sequences have length: 15355\n",
            "maximum length of sequences is: 11\n"
          ]
        }
      ]
    },
    {
      "cell_type": "code",
      "source": [
        "# GRADED FUNCTION: pad_seqs\n",
        "\n",
        "def pad_seqs(input_sequences, max_sequence_len):\n",
        "    \"\"\"\n",
        "    Pads tokenized sequences to the same length\n",
        "\n",
        "    Args:\n",
        "        input_sequences (list of int): tokenized sequences to pad\n",
        "        maxlen (int): maximum length of the token sequences\n",
        "\n",
        "    Returns:\n",
        "        (np.array of int32): tokenized sequences padded to the same length\n",
        "    \"\"\"\n",
        "\n",
        "    ### START CODE HERE ###\n",
        "\n",
        "    padded_sequences = tf.keras.utils.pad_sequences(input_sequences, maxlen=max_sequence_len, padding=\"pre\")\n",
        "\n",
        "    ### END CODE HERE ###\n",
        "\n",
        "    return padded_sequences"
      ],
      "metadata": {
        "id": "2TkAN8_BRUmq"
      },
      "execution_count": 13,
      "outputs": []
    },
    {
      "cell_type": "code",
      "source": [
        "first_padded_seq = pad_seqs(first_example_sequence, max([len(x) for x in first_example_sequence]))\n",
        "first_padded_seq"
      ],
      "metadata": {
        "colab": {
          "base_uri": "https://localhost:8080/"
        },
        "id": "8Vxfd-ewRnla",
        "outputId": "334a51ad-ac64-47e7-c3d3-8610cffdf548"
      },
      "execution_count": 14,
      "outputs": [
        {
          "output_type": "execute_result",
          "data": {
            "text/plain": [
              "array([[   0,    0,    0,    0,   35,  489],\n",
              "       [   0,    0,    0,   35,  489, 1259],\n",
              "       [   0,    0,   35,  489, 1259,  164],\n",
              "       [   0,   35,  489, 1259,  164,  230],\n",
              "       [  35,  489, 1259,  164,  230,  582]], dtype=int32)"
            ]
          },
          "metadata": {},
          "execution_count": 14
        }
      ]
    },
    {
      "cell_type": "code",
      "source": [
        "next_3_padded_seq = pad_seqs(next_3_examples_sequence, max([len(s) for s in next_3_examples_sequence]))\n",
        "next_3_padded_seq"
      ],
      "metadata": {
        "colab": {
          "base_uri": "https://localhost:8080/"
        },
        "id": "5pvMGvgfRqNh",
        "outputId": "04593b62-e5cf-4eab-860b-3742c5cb1d63"
      },
      "execution_count": 15,
      "outputs": [
        {
          "output_type": "execute_result",
          "data": {
            "text/plain": [
              "array([[   0,    0,    0,    0,    0,    0,    9,  935],\n",
              "       [   0,    0,    0,    0,    0,    9,  935,  143],\n",
              "       [   0,    0,    0,    0,    9,  935,  143,  369],\n",
              "       [   0,    0,    0,    9,  935,  143,  369,  101],\n",
              "       [   0,    0,    9,  935,  143,  369,  101,  171],\n",
              "       [   0,    9,  935,  143,  369,  101,  171,  207],\n",
              "       [   0,    0,    0,    0,    0,    0,   17,   23],\n",
              "       [   0,    0,    0,    0,    0,   17,   23,    3],\n",
              "       [   0,    0,    0,    0,   17,   23,    3, 1006],\n",
              "       [   0,    0,    0,   17,   23,    3, 1006,   64],\n",
              "       [   0,    0,   17,   23,    3, 1006,   64,   31],\n",
              "       [   0,   17,   23,    3, 1006,   64,   31,   51],\n",
              "       [  17,   23,    3, 1006,   64,   31,   51,  803],\n",
              "       [   0,    0,    0,    0,    0,    0,   27,  315],\n",
              "       [   0,    0,    0,    0,    0,   27,  315,  745],\n",
              "       [   0,    0,    0,    0,   27,  315,  745,  101],\n",
              "       [   0,    0,    0,   27,  315,  745,  101,  209],\n",
              "       [   0,    0,   27,  315,  745,  101,  209,   27],\n",
              "       [   0,   27,  315,  745,  101,  209,   27,  286]], dtype=int32)"
            ]
          },
          "metadata": {},
          "execution_count": 15
        }
      ]
    },
    {
      "cell_type": "code",
      "source": [],
      "metadata": {
        "id": "Jt-frv5YSjDN"
      },
      "execution_count": null,
      "outputs": []
    },
    {
      "cell_type": "code",
      "source": [
        "input_sequences = pad_seqs(input_sequences, max_sequence_len)\n",
        "\n",
        "print(f\"padded corpus has shape: {input_sequences.shape}\")"
      ],
      "metadata": {
        "colab": {
          "base_uri": "https://localhost:8080/"
        },
        "id": "fWua-Wn2RrWE",
        "outputId": "22abb233-3f7d-40a6-f901-b4885c0a8cf2"
      },
      "execution_count": 16,
      "outputs": [
        {
          "output_type": "stream",
          "name": "stdout",
          "text": [
            "padded corpus has shape: (15355, 11)\n"
          ]
        }
      ]
    },
    {
      "cell_type": "code",
      "source": [
        "# GRADED FUNCTION: features_and_labels\n",
        "\n",
        "def features_and_labels_dataset(input_sequences, total_words):\n",
        "    \"\"\"\n",
        "    Generates features and labels from n-grams and returns a tensorflow dataset\n",
        "\n",
        "    Args:\n",
        "        input_sequences (list of int): sequences to split features and labels from\n",
        "        total_words (int): vocabulary size\n",
        "\n",
        "    Returns:\n",
        "        (tf.data.Dataset): Dataset with elements in the form (sentence, label)\n",
        "    \"\"\"\n",
        "    ### START CODE HERE ###\n",
        "\n",
        "    # Define the features an labels as discussed in the lectures\n",
        "    features = input_sequences[:, :-1]\n",
        "    labels = input_sequences[:, -1]\n",
        "\n",
        "    # One hot encode the labels\n",
        "    one_hot_labels = tf.keras.utils.to_categorical(labels, num_classes=total_words)\n",
        "\n",
        "    # Create the dataset\n",
        "    dataset = tf.data.Dataset.from_tensor_slices((features, one_hot_labels))\n",
        "    # Batch de dataset with number of batches given by the global variable\n",
        "    batched_dataset = dataset.batch(NUM_BATCHES)\n",
        "\n",
        "    ### END CODE HERE ##\n",
        "\n",
        "    return batched_dataset"
      ],
      "metadata": {
        "id": "1ZM75DKYRv9l"
      },
      "execution_count": 17,
      "outputs": []
    },
    {
      "cell_type": "code",
      "source": [
        "dataset_example = features_and_labels_dataset(first_padded_seq, total_words)\n",
        "\n",
        "print(\"Example:\\n\")\n",
        "for features, label in dataset_example.take(1):\n",
        "    print(f\"N grams:\\n\\n {features}\\n\")\n",
        "    print(features.shape)\n",
        "    print(f\"Label shape:\\n\\n {label.shape}\")"
      ],
      "metadata": {
        "colab": {
          "base_uri": "https://localhost:8080/"
        },
        "id": "N8o7dei7SjvG",
        "outputId": "55f8d848-12dd-4a7a-c4fa-a3b19db1429f"
      },
      "execution_count": 22,
      "outputs": [
        {
          "output_type": "stream",
          "name": "stdout",
          "text": [
            "Example:\n",
            "\n",
            "N grams:\n",
            "\n",
            " [[   0    0    0    0   35]\n",
            " [   0    0    0   35  489]\n",
            " [   0    0   35  489 1259]\n",
            " [   0   35  489 1259  164]\n",
            " [  35  489 1259  164  230]]\n",
            "\n",
            "(5, 5)\n",
            "Label shape:\n",
            "\n",
            " (5, 3189)\n"
          ]
        }
      ]
    },
    {
      "cell_type": "code",
      "source": [
        "dataset = features_and_labels_dataset(input_sequences, total_words).prefetch(tf.data.AUTOTUNE)\n",
        "\n",
        "print(f\"Feature shape: {dataset.element_spec[0]}\")\n",
        "print(f\"Label shape: {dataset.element_spec[1]}\")"
      ],
      "metadata": {
        "colab": {
          "base_uri": "https://localhost:8080/"
        },
        "id": "zmXfgJ_CSn2v",
        "outputId": "3831f0a0-5d7b-4f35-b772-b1e932a7f3f6"
      },
      "execution_count": 19,
      "outputs": [
        {
          "output_type": "stream",
          "name": "stdout",
          "text": [
            "Feature shape: TensorSpec(shape=(None, 10), dtype=tf.int32, name=None)\n",
            "Label shape: TensorSpec(shape=(None, 3189), dtype=tf.float64, name=None)\n"
          ]
        }
      ]
    },
    {
      "cell_type": "code",
      "source": [
        "def create_model(total_words, max_sequence_len):\n",
        "    \"\"\"\n",
        "    Creates a text generator model\n",
        "\n",
        "    Args:\n",
        "        total_words (int): size of the vocabulary for the Embedding layer input\n",
        "        max_sequence_len (int): length of the input sequences\n",
        "\n",
        "    Returns:\n",
        "       (tf.keras Model): the text generator model\n",
        "    \"\"\"\n",
        "    model = tf.keras.Sequential()\n",
        "\n",
        "    ### START CODE HERE ###\n",
        "    model.add(tf.keras.layers.Input(shape=(max_sequence_len,)))\n",
        "    model.add(tf.keras.layers.Embedding(total_words, EMBEDDING_DIM))\n",
        "\n",
        "    # Return only the last hidden state of the LSTM\n",
        "    model.add(tf.keras.layers.Bidirectional(tf.keras.layers.LSTM(LSTM_UNITS, return_sequences=False)))\n",
        "    model.add(tf.keras.layers.Dense(total_words, activation='softmax'))\n",
        "\n",
        "\n",
        "    model.compile(loss='categorical_crossentropy',\n",
        "                  optimizer='adam',\n",
        "                  metrics = ['accuracy'])\n",
        "\n",
        "    ### END CODE HERE ###\n",
        "\n",
        "    return model"
      ],
      "metadata": {
        "id": "1j5YekP9TlH0"
      },
      "execution_count": 55,
      "outputs": []
    },
    {
      "cell_type": "code",
      "source": [
        "model = create_model(total_words, max_sequence_len)"
      ],
      "metadata": {
        "id": "axfRrrZGUM3l"
      },
      "execution_count": 56,
      "outputs": []
    },
    {
      "cell_type": "code",
      "source": [
        "model.summary()"
      ],
      "metadata": {
        "colab": {
          "base_uri": "https://localhost:8080/",
          "height": 225
        },
        "id": "wSVYCTDoUUX_",
        "outputId": "63d37d5f-48b7-42e7-ba97-1bd762b59bb4"
      },
      "execution_count": 57,
      "outputs": [
        {
          "output_type": "display_data",
          "data": {
            "text/plain": [
              "\u001b[1mModel: \"sequential_7\"\u001b[0m\n"
            ],
            "text/html": [
              "<pre style=\"white-space:pre;overflow-x:auto;line-height:normal;font-family:Menlo,'DejaVu Sans Mono',consolas,'Courier New',monospace\"><span style=\"font-weight: bold\">Model: \"sequential_7\"</span>\n",
              "</pre>\n"
            ]
          },
          "metadata": {}
        },
        {
          "output_type": "display_data",
          "data": {
            "text/plain": [
              "┏━━━━━━━━━━━━━━━━━━━━━━━━━━━━━━━━━━━━━━┳━━━━━━━━━━━━━━━━━━━━━━━━━━━━━┳━━━━━━━━━━━━━━━━━┓\n",
              "┃\u001b[1m \u001b[0m\u001b[1mLayer (type)                        \u001b[0m\u001b[1m \u001b[0m┃\u001b[1m \u001b[0m\u001b[1mOutput Shape               \u001b[0m\u001b[1m \u001b[0m┃\u001b[1m \u001b[0m\u001b[1m        Param #\u001b[0m\u001b[1m \u001b[0m┃\n",
              "┡━━━━━━━━━━━━━━━━━━━━━━━━━━━━━━━━━━━━━━╇━━━━━━━━━━━━━━━━━━━━━━━━━━━━━╇━━━━━━━━━━━━━━━━━┩\n",
              "│ embedding_7 (\u001b[38;5;33mEmbedding\u001b[0m)              │ (\u001b[38;5;45mNone\u001b[0m, \u001b[38;5;34m11\u001b[0m, \u001b[38;5;34m100\u001b[0m)             │         \u001b[38;5;34m318,900\u001b[0m │\n",
              "├──────────────────────────────────────┼─────────────────────────────┼─────────────────┤\n",
              "│ bidirectional_7 (\u001b[38;5;33mBidirectional\u001b[0m)      │ (\u001b[38;5;45mNone\u001b[0m, \u001b[38;5;34m256\u001b[0m)                 │         \u001b[38;5;34m234,496\u001b[0m │\n",
              "├──────────────────────────────────────┼─────────────────────────────┼─────────────────┤\n",
              "│ dense_8 (\u001b[38;5;33mDense\u001b[0m)                      │ (\u001b[38;5;45mNone\u001b[0m, \u001b[38;5;34m3189\u001b[0m)                │         \u001b[38;5;34m819,573\u001b[0m │\n",
              "└──────────────────────────────────────┴─────────────────────────────┴─────────────────┘\n"
            ],
            "text/html": [
              "<pre style=\"white-space:pre;overflow-x:auto;line-height:normal;font-family:Menlo,'DejaVu Sans Mono',consolas,'Courier New',monospace\">┏━━━━━━━━━━━━━━━━━━━━━━━━━━━━━━━━━━━━━━┳━━━━━━━━━━━━━━━━━━━━━━━━━━━━━┳━━━━━━━━━━━━━━━━━┓\n",
              "┃<span style=\"font-weight: bold\"> Layer (type)                         </span>┃<span style=\"font-weight: bold\"> Output Shape                </span>┃<span style=\"font-weight: bold\">         Param # </span>┃\n",
              "┡━━━━━━━━━━━━━━━━━━━━━━━━━━━━━━━━━━━━━━╇━━━━━━━━━━━━━━━━━━━━━━━━━━━━━╇━━━━━━━━━━━━━━━━━┩\n",
              "│ embedding_7 (<span style=\"color: #0087ff; text-decoration-color: #0087ff\">Embedding</span>)              │ (<span style=\"color: #00d7ff; text-decoration-color: #00d7ff\">None</span>, <span style=\"color: #00af00; text-decoration-color: #00af00\">11</span>, <span style=\"color: #00af00; text-decoration-color: #00af00\">100</span>)             │         <span style=\"color: #00af00; text-decoration-color: #00af00\">318,900</span> │\n",
              "├──────────────────────────────────────┼─────────────────────────────┼─────────────────┤\n",
              "│ bidirectional_7 (<span style=\"color: #0087ff; text-decoration-color: #0087ff\">Bidirectional</span>)      │ (<span style=\"color: #00d7ff; text-decoration-color: #00d7ff\">None</span>, <span style=\"color: #00af00; text-decoration-color: #00af00\">256</span>)                 │         <span style=\"color: #00af00; text-decoration-color: #00af00\">234,496</span> │\n",
              "├──────────────────────────────────────┼─────────────────────────────┼─────────────────┤\n",
              "│ dense_8 (<span style=\"color: #0087ff; text-decoration-color: #0087ff\">Dense</span>)                      │ (<span style=\"color: #00d7ff; text-decoration-color: #00d7ff\">None</span>, <span style=\"color: #00af00; text-decoration-color: #00af00\">3189</span>)                │         <span style=\"color: #00af00; text-decoration-color: #00af00\">819,573</span> │\n",
              "└──────────────────────────────────────┴─────────────────────────────┴─────────────────┘\n",
              "</pre>\n"
            ]
          },
          "metadata": {}
        },
        {
          "output_type": "display_data",
          "data": {
            "text/plain": [
              "\u001b[1m Total params: \u001b[0m\u001b[38;5;34m1,372,969\u001b[0m (5.24 MB)\n"
            ],
            "text/html": [
              "<pre style=\"white-space:pre;overflow-x:auto;line-height:normal;font-family:Menlo,'DejaVu Sans Mono',consolas,'Courier New',monospace\"><span style=\"font-weight: bold\"> Total params: </span><span style=\"color: #00af00; text-decoration-color: #00af00\">1,372,969</span> (5.24 MB)\n",
              "</pre>\n"
            ]
          },
          "metadata": {}
        },
        {
          "output_type": "display_data",
          "data": {
            "text/plain": [
              "\u001b[1m Trainable params: \u001b[0m\u001b[38;5;34m1,372,969\u001b[0m (5.24 MB)\n"
            ],
            "text/html": [
              "<pre style=\"white-space:pre;overflow-x:auto;line-height:normal;font-family:Menlo,'DejaVu Sans Mono',consolas,'Courier New',monospace\"><span style=\"font-weight: bold\"> Trainable params: </span><span style=\"color: #00af00; text-decoration-color: #00af00\">1,372,969</span> (5.24 MB)\n",
              "</pre>\n"
            ]
          },
          "metadata": {}
        },
        {
          "output_type": "display_data",
          "data": {
            "text/plain": [
              "\u001b[1m Non-trainable params: \u001b[0m\u001b[38;5;34m0\u001b[0m (0.00 B)\n"
            ],
            "text/html": [
              "<pre style=\"white-space:pre;overflow-x:auto;line-height:normal;font-family:Menlo,'DejaVu Sans Mono',consolas,'Courier New',monospace\"><span style=\"font-weight: bold\"> Non-trainable params: </span><span style=\"color: #00af00; text-decoration-color: #00af00\">0</span> (0.00 B)\n",
              "</pre>\n"
            ]
          },
          "metadata": {}
        }
      ]
    },
    {
      "cell_type": "code",
      "source": [
        "example_batch = dataset.take(1)\n",
        "\n",
        "try:\n",
        "\tmodel.evaluate(example_batch, verbose=False)\n",
        "except:\n",
        "\tprint(\"Your model is not compatible with the dataset you defined earlier. Check that the loss function and last layer are compatible with one another.\")\n",
        "else:\n",
        "\tpredictions = model.predict(example_batch, verbose=False)\n",
        "\tprint(f\"predictions have shape: {predictions.shape}\")"
      ],
      "metadata": {
        "colab": {
          "base_uri": "https://localhost:8080/"
        },
        "id": "8Xdo6nE0UVdU",
        "outputId": "4b3e1df3-976a-4ba1-c15d-f2fc3682b18f"
      },
      "execution_count": 58,
      "outputs": [
        {
          "output_type": "stream",
          "name": "stdout",
          "text": [
            "predictions have shape: (16, 3189)\n"
          ]
        }
      ]
    },
    {
      "cell_type": "code",
      "source": [
        "history = model.fit(dataset, epochs=30, verbose=1)"
      ],
      "metadata": {
        "colab": {
          "base_uri": "https://localhost:8080/"
        },
        "id": "TfCJFfVLUdxz",
        "outputId": "182638c1-0171-476c-8a70-8d280435cc09"
      },
      "execution_count": 59,
      "outputs": [
        {
          "output_type": "stream",
          "name": "stdout",
          "text": [
            "Epoch 1/30\n",
            "\u001b[1m960/960\u001b[0m \u001b[32m━━━━━━━━━━━━━━━━━━━━\u001b[0m\u001b[37m\u001b[0m \u001b[1m89s\u001b[0m 42ms/step - accuracy: 0.0252 - loss: 7.0483\n",
            "Epoch 2/30\n",
            "\u001b[1m960/960\u001b[0m \u001b[32m━━━━━━━━━━━━━━━━━━━━\u001b[0m\u001b[37m\u001b[0m \u001b[1m41s\u001b[0m 42ms/step - accuracy: 0.0322 - loss: 6.1570\n",
            "Epoch 3/30\n",
            "\u001b[1m960/960\u001b[0m \u001b[32m━━━━━━━━━━━━━━━━━━━━\u001b[0m\u001b[37m\u001b[0m \u001b[1m41s\u001b[0m 43ms/step - accuracy: 0.0390 - loss: 5.7746\n",
            "Epoch 4/30\n",
            "\u001b[1m960/960\u001b[0m \u001b[32m━━━━━━━━━━━━━━━━━━━━\u001b[0m\u001b[37m\u001b[0m \u001b[1m41s\u001b[0m 43ms/step - accuracy: 0.0500 - loss: 5.5007\n",
            "Epoch 5/30\n",
            "\u001b[1m960/960\u001b[0m \u001b[32m━━━━━━━━━━━━━━━━━━━━\u001b[0m\u001b[37m\u001b[0m \u001b[1m42s\u001b[0m 43ms/step - accuracy: 0.0615 - loss: 5.2180\n",
            "Epoch 6/30\n",
            "\u001b[1m960/960\u001b[0m \u001b[32m━━━━━━━━━━━━━━━━━━━━\u001b[0m\u001b[37m\u001b[0m \u001b[1m41s\u001b[0m 43ms/step - accuracy: 0.0766 - loss: 4.9033\n",
            "Epoch 7/30\n",
            "\u001b[1m960/960\u001b[0m \u001b[32m━━━━━━━━━━━━━━━━━━━━\u001b[0m\u001b[37m\u001b[0m \u001b[1m43s\u001b[0m 45ms/step - accuracy: 0.0957 - loss: 4.6241\n",
            "Epoch 8/30\n",
            "\u001b[1m960/960\u001b[0m \u001b[32m━━━━━━━━━━━━━━━━━━━━\u001b[0m\u001b[37m\u001b[0m \u001b[1m80s\u001b[0m 43ms/step - accuracy: 0.1139 - loss: 4.4403\n",
            "Epoch 9/30\n",
            "\u001b[1m960/960\u001b[0m \u001b[32m━━━━━━━━━━━━━━━━━━━━\u001b[0m\u001b[37m\u001b[0m \u001b[1m41s\u001b[0m 43ms/step - accuracy: 0.1491 - loss: 4.1889\n",
            "Epoch 10/30\n",
            "\u001b[1m960/960\u001b[0m \u001b[32m━━━━━━━━━━━━━━━━━━━━\u001b[0m\u001b[37m\u001b[0m \u001b[1m81s\u001b[0m 42ms/step - accuracy: 0.1832 - loss: 3.9458\n",
            "Epoch 11/30\n",
            "\u001b[1m960/960\u001b[0m \u001b[32m━━━━━━━━━━━━━━━━━━━━\u001b[0m\u001b[37m\u001b[0m \u001b[1m43s\u001b[0m 45ms/step - accuracy: 0.2293 - loss: 3.7242\n",
            "Epoch 12/30\n",
            "\u001b[1m960/960\u001b[0m \u001b[32m━━━━━━━━━━━━━━━━━━━━\u001b[0m\u001b[37m\u001b[0m \u001b[1m80s\u001b[0m 43ms/step - accuracy: 0.2887 - loss: 3.4501\n",
            "Epoch 13/30\n",
            "\u001b[1m960/960\u001b[0m \u001b[32m━━━━━━━━━━━━━━━━━━━━\u001b[0m\u001b[37m\u001b[0m \u001b[1m41s\u001b[0m 42ms/step - accuracy: 0.3369 - loss: 3.1862\n",
            "Epoch 14/30\n",
            "\u001b[1m960/960\u001b[0m \u001b[32m━━━━━━━━━━━━━━━━━━━━\u001b[0m\u001b[37m\u001b[0m \u001b[1m41s\u001b[0m 43ms/step - accuracy: 0.3768 - loss: 2.9924\n",
            "Epoch 15/30\n",
            "\u001b[1m960/960\u001b[0m \u001b[32m━━━━━━━━━━━━━━━━━━━━\u001b[0m\u001b[37m\u001b[0m \u001b[1m82s\u001b[0m 43ms/step - accuracy: 0.4332 - loss: 2.7285\n",
            "Epoch 16/30\n",
            "\u001b[1m960/960\u001b[0m \u001b[32m━━━━━━━━━━━━━━━━━━━━\u001b[0m\u001b[37m\u001b[0m \u001b[1m43s\u001b[0m 45ms/step - accuracy: 0.4741 - loss: 2.5401\n",
            "Epoch 17/30\n",
            "\u001b[1m960/960\u001b[0m \u001b[32m━━━━━━━━━━━━━━━━━━━━\u001b[0m\u001b[37m\u001b[0m \u001b[1m41s\u001b[0m 43ms/step - accuracy: 0.4260 - loss: 2.7698\n",
            "Epoch 18/30\n",
            "\u001b[1m960/960\u001b[0m \u001b[32m━━━━━━━━━━━━━━━━━━━━\u001b[0m\u001b[37m\u001b[0m \u001b[1m82s\u001b[0m 43ms/step - accuracy: 0.4927 - loss: 2.4508\n",
            "Epoch 19/30\n",
            "\u001b[1m960/960\u001b[0m \u001b[32m━━━━━━━━━━━━━━━━━━━━\u001b[0m\u001b[37m\u001b[0m \u001b[1m41s\u001b[0m 43ms/step - accuracy: 0.5587 - loss: 2.1667\n",
            "Epoch 20/30\n",
            "\u001b[1m960/960\u001b[0m \u001b[32m━━━━━━━━━━━━━━━━━━━━\u001b[0m\u001b[37m\u001b[0m \u001b[1m41s\u001b[0m 43ms/step - accuracy: 0.5868 - loss: 2.0447\n",
            "Epoch 21/30\n",
            "\u001b[1m960/960\u001b[0m \u001b[32m━━━━━━━━━━━━━━━━━━━━\u001b[0m\u001b[37m\u001b[0m \u001b[1m42s\u001b[0m 44ms/step - accuracy: 0.6072 - loss: 1.9358\n",
            "Epoch 22/30\n",
            "\u001b[1m960/960\u001b[0m \u001b[32m━━━━━━━━━━━━━━━━━━━━\u001b[0m\u001b[37m\u001b[0m \u001b[1m41s\u001b[0m 43ms/step - accuracy: 0.6514 - loss: 1.7448\n",
            "Epoch 23/30\n",
            "\u001b[1m960/960\u001b[0m \u001b[32m━━━━━━━━━━━━━━━━━━━━\u001b[0m\u001b[37m\u001b[0m \u001b[1m41s\u001b[0m 43ms/step - accuracy: 0.6591 - loss: 1.6989\n",
            "Epoch 24/30\n",
            "\u001b[1m960/960\u001b[0m \u001b[32m━━━━━━━━━━━━━━━━━━━━\u001b[0m\u001b[37m\u001b[0m \u001b[1m40s\u001b[0m 42ms/step - accuracy: 0.7064 - loss: 1.4943\n",
            "Epoch 25/30\n",
            "\u001b[1m960/960\u001b[0m \u001b[32m━━━━━━━━━━━━━━━━━━━━\u001b[0m\u001b[37m\u001b[0m \u001b[1m41s\u001b[0m 42ms/step - accuracy: 0.7353 - loss: 1.3390\n",
            "Epoch 26/30\n",
            "\u001b[1m960/960\u001b[0m \u001b[32m━━━━━━━━━━━━━━━━━━━━\u001b[0m\u001b[37m\u001b[0m \u001b[1m41s\u001b[0m 42ms/step - accuracy: 0.7501 - loss: 1.2607\n",
            "Epoch 27/30\n",
            "\u001b[1m960/960\u001b[0m \u001b[32m━━━━━━━━━━━━━━━━━━━━\u001b[0m\u001b[37m\u001b[0m \u001b[1m40s\u001b[0m 42ms/step - accuracy: 0.7795 - loss: 1.1120\n",
            "Epoch 28/30\n",
            "\u001b[1m960/960\u001b[0m \u001b[32m━━━━━━━━━━━━━━━━━━━━\u001b[0m\u001b[37m\u001b[0m \u001b[1m43s\u001b[0m 44ms/step - accuracy: 0.7855 - loss: 1.0773\n",
            "Epoch 29/30\n",
            "\u001b[1m960/960\u001b[0m \u001b[32m━━━━━━━━━━━━━━━━━━━━\u001b[0m\u001b[37m\u001b[0m \u001b[1m41s\u001b[0m 42ms/step - accuracy: 0.8186 - loss: 0.9378\n",
            "Epoch 30/30\n",
            "\u001b[1m960/960\u001b[0m \u001b[32m━━━━━━━━━━━━━━━━━━━━\u001b[0m\u001b[37m\u001b[0m \u001b[1m41s\u001b[0m 43ms/step - accuracy: 0.8302 - loss: 0.8807\n"
          ]
        }
      ]
    },
    {
      "cell_type": "code",
      "source": [
        "# Get training and validation accuracies\n",
        "acc = history.history['accuracy']\n",
        "loss = history.history['loss']\n",
        "\n",
        "# Get number of epochs\n",
        "epochs = range(len(acc))\n",
        "\n",
        "fig, ax = plt.subplots(1, 2, figsize=(10, 5))\n",
        "fig.suptitle('Training performance - Accuracy and Loss')\n",
        "\n",
        "for i, (data, label) in enumerate(zip([acc,loss], [\"Accuracy\", \"Loss\"])):\n",
        "    ax[i].plot(epochs, data, label=label)\n",
        "    ax[i].legend()\n",
        "    ax[i].set_xlabel('epochs')"
      ],
      "metadata": {
        "colab": {
          "base_uri": "https://localhost:8080/",
          "height": 515
        },
        "id": "Y6EIY8EnXVYE",
        "outputId": "082325be-3303-4c1f-e127-b6c5e951fa11"
      },
      "execution_count": 60,
      "outputs": [
        {
          "output_type": "display_data",
          "data": {
            "text/plain": [
              "<Figure size 1000x500 with 2 Axes>"
            ],
            "image/png": "[encoded data removed]"
          },
          "metadata": {}
        }
      ]
    },
    {
      "cell_type": "code",
      "source": [
        "seed_text = \"Help me Obi Wan Kenobi, you're my only hope\"\n",
        "next_words = 100\n",
        "\n",
        "for _ in range(next_words):\n",
        "    # Convert the text into sequences\n",
        "    token_list = vectorizer(seed_text)\n",
        "    # Pad the sequences\n",
        "    token_list = tf.keras.utils.pad_sequences([token_list], maxlen=max_sequence_len-1, padding='pre')\n",
        "    # Get the probabilities of predicting a word\n",
        "    predicted = model.predict([token_list], verbose=0)\n",
        "    # Choose the next word based on the maximum probability\n",
        "    predicted = np.argmax(predicted, axis=-1).item()\n",
        "    # Get the actual word from the word index\n",
        "    output_word = vectorizer.get_vocabulary()[predicted]\n",
        "    # Append to the current text\n",
        "    seed_text += \" \" + output_word\n",
        "\n",
        "print(seed_text)"
      ],
      "metadata": {
        "colab": {
          "base_uri": "https://localhost:8080/"
        },
        "id": "tY7795T8XYWT",
        "outputId": "33f1dd54-4789-410f-ec17-fe0bfefe47b2"
      },
      "execution_count": 61,
      "outputs": [
        {
          "output_type": "stream",
          "name": "stderr",
          "text": [
            "WARNING:tensorflow:5 out of the last 5 calls to <function TensorFlowTrainer.make_predict_function.<locals>.one_step_on_data_distributed at 0x7a94f0ca9120> triggered tf.function retracing. Tracing is expensive and the excessive number of tracings could be due to (1) creating @tf.function repeatedly in a loop, (2) passing tensors with different shapes, (3) passing Python objects instead of tensors. For (1), please define your @tf.function outside of the loop. For (2), @tf.function has reduce_retracing=True option that can avoid unnecessary retracing. For (3), please refer to https://www.tensorflow.org/guide/function#controlling_retracing and https://www.tensorflow.org/api_docs/python/tf/function for  more details.\n"
          ]
        },
        {
          "output_type": "stream",
          "name": "stdout",
          "text": [
            "Help me Obi Wan Kenobi, you're my only hope still this life prove more lie prove of thee lie be well and lie so bad true love i am so chary prove me so dearer will so flatter prove prove me prove thee back to modern woe woe lie lie prove bird rest page foul prophetic fading he lie night dispraise knowst more bright rest fort general doth night groan doth stand lie o now no love you thine dear thine eye to show me me more bright basest blind lie seemd prove me so lie may be not so lie so true i thine eyes thee so change\n"
          ]
        }
      ]
    }
  ]
}